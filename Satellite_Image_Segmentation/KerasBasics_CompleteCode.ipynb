{
 "cells": [
  {
   "cell_type": "markdown",
   "metadata": {
    "collapsed": true,
    "nbpresent": {
     "id": "f765eb10-54e6-4a14-912b-e5117e8f433d"
    }
   },
   "source": [
    "# iLykei Lecture Series\n",
    "\n",
    "# Machine Learning\n",
    "\n",
    "# Introduction to Deep Learning\n",
    "\n",
    "# Introduction to Keras\n",
    "\n",
    "## Yuri Balasanov, Leonid Nazarov, &copy; iLykei 2017-2018\n",
    "\n",
    "\n",
    "Keras is an open source neural network library written in Python. It is capable of running on top of one of several libraries (backends): MXNet, Deeplearning4j, Tensorflow, CNTK or Theano. Designed to enable fast experimentation with deep neural networks, it focuses on being minimal, modular and extensible. It was developed as part of the research effort of project ONEIROS (Open-ended Neuro-Electronic Intelligent Robot Operating System), and its primary author and maintainer is François Chollet, a Google engineer.\n",
    "\n",
    "Keras is a very simple and user friendly modular API that allows managing and organizing layers of neural network in a much easier way than TensorFlow."
   ]
  },
  {
   "cell_type": "markdown",
   "metadata": {},
   "source": [
    "# Sequential model\n",
    "\n",
    "The core data structure of Keras is **model**, a way to organize layers of the neural network. <br>\n",
    "\n",
    "The simplest type of model is the Sequential model, a linear stack of layers.<br>\n",
    "\n",
    "Design a simple neural network with one hidden layer consisting of 3 neurons.  \n",
    "\n",
    "First, define the type of the model."
   ]
  },
  {
   "cell_type": "code",
   "execution_count": 1,
   "metadata": {
    "scrolled": true
   },
   "outputs": [
    {
     "name": "stderr",
     "output_type": "stream",
     "text": [
      "Using TensorFlow backend.\n"
     ]
    },
    {
     "name": "stdout",
     "output_type": "stream",
     "text": [
      "WARNING:tensorflow:From /Users/huqiyuan/anaconda3/lib/python3.7/site-packages/keras/backend/tensorflow_backend.py:74: The name tf.get_default_graph is deprecated. Please use tf.compat.v1.get_default_graph instead.\n",
      "\n"
     ]
    }
   ],
   "source": [
    "%matplotlib inline\n",
    "from keras.models import Sequential\n",
    "from keras.layers import Dense, Dropout, Activation, Flatten\n",
    "\n",
    "model =  Sequential() # create model"
   ]
  },
  {
   "cell_type": "markdown",
   "metadata": {
    "collapsed": true
   },
   "source": [
    "Specify the first (hidden) layer."
   ]
  },
  {
   "cell_type": "code",
   "execution_count": 2,
   "metadata": {},
   "outputs": [],
   "source": [
    "model.add(Dense(units=3, input_dim=30)) # add hidden layer"
   ]
  },
  {
   "cell_type": "markdown",
   "metadata": {},
   "source": [
    "Alternative way of calling the same function creating hidden layer is: <br>\n",
    "\n",
    "`model.add(Dense(3, input_dim=30, activation='relu')).` <br>\n",
    "\n",
    "Difference between the two is activation type that can be added separately or inside `model.add` method.\n",
    "\n",
    "Parameter `input_dim` sets number of inputs (predictors). <br>\n",
    "Parameter `activation` is set to `relu` which is a common [activation function](https://en.wikipedia.org/wiki/Rectifier_(neural_networks)) for neural networks.\n",
    "\n",
    "Input layer is not explicitly created. Instead, only number of neurons (features) that feed into the first hidden layer, needs to be specified (30 for the Wisconsin Breast Cancer Dataset considered in this notebook). \n",
    "\n",
    "There is also no need to worry about the input dimensions for subsequent layers: neurons in the previous layer form input for the next layer. The output dimension of the first hidden layer is equal to 3. "
   ]
  },
  {
   "cell_type": "code",
   "execution_count": null,
   "metadata": {},
   "outputs": [],
   "source": []
  },
  {
   "cell_type": "markdown",
   "metadata": {},
   "source": [
    "Selection of activation function for the hidden layer can be done from the list of available activations, providing formulas for the most popular ones: \n",
    "\n",
    "- softmax(x) :   $f_{i}(x)=\\frac{e^{x_{i}}}{\\sum_{i=1}^{n}e^{x_{i}}},i=1,...,n$\n",
    "- elu(x)\n",
    "- selu(x)\n",
    "- softplus(x) = $ln(1 + e^{x})$\n",
    "- softsign(x) = $\\frac {x}{1+|x|}$\n",
    "- relu(x) = $max(0,x)$; (those familiar with options trading will recognize call option payof function in `relu`)\n",
    "- tanh(x) \n",
    "- sigmoid(x) = $\\frac {1}{1+e^{-x}}$\n",
    "- hard_sigmoid(x)\n",
    "- linear(x) = $x$\n",
    "- LeakyReLU(x,alpha) = $max(\\alpha *x,x)$\n",
    "\n",
    "Activation function 'relu' has earned significant popularity recently because it usually provides faster convergence relative to 'tanh' or 'sigmoid'.\n",
    "\n",
    "Since activation was not specified in the previous cell add it now."
   ]
  },
  {
   "cell_type": "code",
   "execution_count": 3,
   "metadata": {},
   "outputs": [],
   "source": [
    "model.add(Activation('relu')) "
   ]
  },
  {
   "cell_type": "markdown",
   "metadata": {},
   "source": [
    "Add output layer with 1 neuron and 'sigmoid' activation function producing predictive probability for Class 1."
   ]
  },
  {
   "cell_type": "code",
   "execution_count": 4,
   "metadata": {},
   "outputs": [],
   "source": [
    "# output layer for binary classification\n",
    "model.add(Dense(units=1))\n",
    "model.add(Activation('sigmoid'))"
   ]
  },
  {
   "cell_type": "markdown",
   "metadata": {},
   "source": [
    "The following plot displays the nework architecture for Wisconsin breast cancer example and explains the nature of **Dense** (fully connected) layer: each neuron of it is connected with all units of the next layer.\n",
    " \n",
    "![Model plot](https://ilykei.com/api/fileProxy/documents%2FAdvanced%20Machine%20Learning%2FLecture%207%20AdvML%2FR_nn_plot.png)\n",
    "\n",
    "The picture was created with function *plot()* from R **neuralnet** package. <br>\n",
    "\n",
    "Keras has tools for model visualization of its own. \n",
    "\n",
    "Module `keras.utils.vis_utils` provides utility functions to plot a Keras model (using **graphviz**). \n",
    "Unlike the R function used above this utility does not show neurons. It describes network in terms of layers.   \n",
    "\n",
    "The code below plots another graph of the same network model: "
   ]
  },
  {
   "cell_type": "code",
   "execution_count": 7,
   "metadata": {},
   "outputs": [
    {
     "data": {
      "image/svg+xml": [
       "<svg height=\"337pt\" viewBox=\"0.00 0.00 160.00 337.00\" width=\"160pt\" xmlns=\"http://www.w3.org/2000/svg\" xmlns:xlink=\"http://www.w3.org/1999/xlink\">\n",
       "<g class=\"graph\" id=\"graph0\" transform=\"scale(1 1) rotate(0) translate(4 333)\">\n",
       "<title>G</title>\n",
       "<polygon fill=\"#ffffff\" points=\"-4,4 -4,-333 156,-333 156,4 -4,4\" stroke=\"transparent\"/>\n",
       "<!-- 26889291480 -->\n",
       "<g class=\"node\" id=\"node1\">\n",
       "<title>26889291480</title>\n",
       "<polygon fill=\"none\" points=\"23.5,-219.5 23.5,-255.5 128.5,-255.5 128.5,-219.5 23.5,-219.5\" stroke=\"#000000\"/>\n",
       "<text fill=\"#000000\" font-family=\"Times,serif\" font-size=\"14.00\" text-anchor=\"middle\" x=\"76\" y=\"-233.8\">dense_3: Dense</text>\n",
       "</g>\n",
       "<!-- 26889318752 -->\n",
       "<g class=\"node\" id=\"node2\">\n",
       "<title>26889318752</title>\n",
       "<polygon fill=\"none\" points=\"0,-146.5 0,-182.5 152,-182.5 152,-146.5 0,-146.5\" stroke=\"#000000\"/>\n",
       "<text fill=\"#000000\" font-family=\"Times,serif\" font-size=\"14.00\" text-anchor=\"middle\" x=\"76\" y=\"-160.8\">activation_1: Activation</text>\n",
       "</g>\n",
       "<!-- 26889291480&#45;&gt;26889318752 -->\n",
       "<g class=\"edge\" id=\"edge2\">\n",
       "<title>26889291480-&gt;26889318752</title>\n",
       "<path d=\"M76,-219.4551C76,-211.3828 76,-201.6764 76,-192.6817\" fill=\"none\" stroke=\"#000000\"/>\n",
       "<polygon fill=\"#000000\" points=\"79.5001,-192.5903 76,-182.5904 72.5001,-192.5904 79.5001,-192.5903\" stroke=\"#000000\"/>\n",
       "</g>\n",
       "<!-- 26889319088 -->\n",
       "<g class=\"node\" id=\"node3\">\n",
       "<title>26889319088</title>\n",
       "<polygon fill=\"none\" points=\"23.5,-73.5 23.5,-109.5 128.5,-109.5 128.5,-73.5 23.5,-73.5\" stroke=\"#000000\"/>\n",
       "<text fill=\"#000000\" font-family=\"Times,serif\" font-size=\"14.00\" text-anchor=\"middle\" x=\"76\" y=\"-87.8\">dense_4: Dense</text>\n",
       "</g>\n",
       "<!-- 26889318752&#45;&gt;26889319088 -->\n",
       "<g class=\"edge\" id=\"edge3\">\n",
       "<title>26889318752-&gt;26889319088</title>\n",
       "<path d=\"M76,-146.4551C76,-138.3828 76,-128.6764 76,-119.6817\" fill=\"none\" stroke=\"#000000\"/>\n",
       "<polygon fill=\"#000000\" points=\"79.5001,-119.5903 76,-109.5904 72.5001,-119.5904 79.5001,-119.5903\" stroke=\"#000000\"/>\n",
       "</g>\n",
       "<!-- 26889319480 -->\n",
       "<g class=\"node\" id=\"node4\">\n",
       "<title>26889319480</title>\n",
       "<polygon fill=\"none\" points=\"0,-.5 0,-36.5 152,-36.5 152,-.5 0,-.5\" stroke=\"#000000\"/>\n",
       "<text fill=\"#000000\" font-family=\"Times,serif\" font-size=\"14.00\" text-anchor=\"middle\" x=\"76\" y=\"-14.8\">activation_2: Activation</text>\n",
       "</g>\n",
       "<!-- 26889319088&#45;&gt;26889319480 -->\n",
       "<g class=\"edge\" id=\"edge4\">\n",
       "<title>26889319088-&gt;26889319480</title>\n",
       "<path d=\"M76,-73.4551C76,-65.3828 76,-55.6764 76,-46.6817\" fill=\"none\" stroke=\"#000000\"/>\n",
       "<polygon fill=\"#000000\" points=\"79.5001,-46.5903 76,-36.5904 72.5001,-46.5904 79.5001,-46.5903\" stroke=\"#000000\"/>\n",
       "</g>\n",
       "<!-- 26889319648 -->\n",
       "<g class=\"node\" id=\"node5\">\n",
       "<title>26889319648</title>\n",
       "<polygon fill=\"none\" points=\"29,-292.5 29,-328.5 123,-328.5 123,-292.5 29,-292.5\" stroke=\"#000000\"/>\n",
       "<text fill=\"#000000\" font-family=\"Times,serif\" font-size=\"14.00\" text-anchor=\"middle\" x=\"76\" y=\"-306.8\">26889319648</text>\n",
       "</g>\n",
       "<!-- 26889319648&#45;&gt;26889291480 -->\n",
       "<g class=\"edge\" id=\"edge1\">\n",
       "<title>26889319648-&gt;26889291480</title>\n",
       "<path d=\"M76,-292.4551C76,-284.3828 76,-274.6764 76,-265.6817\" fill=\"none\" stroke=\"#000000\"/>\n",
       "<polygon fill=\"#000000\" points=\"79.5001,-265.5903 76,-255.5904 72.5001,-265.5904 79.5001,-265.5903\" stroke=\"#000000\"/>\n",
       "</g>\n",
       "</g>\n",
       "</svg>"
      ],
      "text/plain": [
       "<IPython.core.display.SVG object>"
      ]
     },
     "execution_count": 7,
     "metadata": {},
     "output_type": "execute_result"
    }
   ],
   "source": [
    "from IPython.display import SVG\n",
    "from keras.utils.vis_utils import model_to_dot\n",
    "\n",
    "SVG(model_to_dot(model).create(prog='dot', format='svg'))"
   ]
  },
  {
   "cell_type": "markdown",
   "metadata": {},
   "source": [
    " Another way is to save the diagram to a file and then plot it with the function `plot_model` which takes two optional arguments:\n",
    "- `show_shapes` (defaults to False) controls whether output shapes are shown in the graph.\n",
    "- `show_layer_names` (defaults to True) controls whether layer names are shown in the graph."
   ]
  },
  {
   "cell_type": "code",
   "execution_count": 8,
   "metadata": {},
   "outputs": [],
   "source": [
    "from keras.utils import plot_model\n",
    "plot_model(model, to_file='model1.png',show_shapes=True,show_layer_names=True)"
   ]
  },
  {
   "cell_type": "markdown",
   "metadata": {},
   "source": [
    "Here is the plot of the the same network model with additional information loaded from the file *model1.png* using a line of markdown code:\n",
    "\n",
    "\"! [model] (./Path to model)\"\n",
    "\n",
    "The resulting plot is:\n",
    "\n",
    "![Model plot](https://ilykei.com/api/fileProxy/documents%2FAdvanced%20Machine%20Learning%2FLecture%207%20AdvML%2Fmodel1.png)\n",
    "\n",
    "Summary of the model can also be shown including layers types, shapes and the number of parameters:"
   ]
  },
  {
   "cell_type": "code",
   "execution_count": 7,
   "metadata": {
    "scrolled": true
   },
   "outputs": [
    {
     "name": "stdout",
     "output_type": "stream",
     "text": [
      "_________________________________________________________________\n",
      "Layer (type)                 Output Shape              Param #   \n",
      "=================================================================\n",
      "dense_1 (Dense)              (None, 3)                 93        \n",
      "_________________________________________________________________\n",
      "activation_1 (Activation)    (None, 3)                 0         \n",
      "_________________________________________________________________\n",
      "dense_2 (Dense)              (None, 1)                 4         \n",
      "_________________________________________________________________\n",
      "activation_2 (Activation)    (None, 1)                 0         \n",
      "=================================================================\n",
      "Total params: 97\n",
      "Trainable params: 97\n",
      "Non-trainable params: 0\n",
      "_________________________________________________________________\n",
      "None\n"
     ]
    }
   ],
   "source": [
    "print(model.summary())"
   ]
  },
  {
   "cell_type": "markdown",
   "metadata": {},
   "source": [
    "Use more compact syntax for describing the same Sequential network: "
   ]
  },
  {
   "cell_type": "code",
   "execution_count": 4,
   "metadata": {},
   "outputs": [
    {
     "name": "stdout",
     "output_type": "stream",
     "text": [
      "WARNING:tensorflow:From /Users/huqiyuan/anaconda3/lib/python3.7/site-packages/keras/backend/tensorflow_backend.py:517: The name tf.placeholder is deprecated. Please use tf.compat.v1.placeholder instead.\n",
      "\n",
      "WARNING:tensorflow:From /Users/huqiyuan/anaconda3/lib/python3.7/site-packages/keras/backend/tensorflow_backend.py:4138: The name tf.random_uniform is deprecated. Please use tf.random.uniform instead.\n",
      "\n"
     ]
    }
   ],
   "source": [
    "model = Sequential()\n",
    "model.add(Dense(3, input_dim=30,activation='relu'))\n",
    "model.add(Dense(1,activation='sigmoid'))"
   ]
  },
  {
   "cell_type": "markdown",
   "metadata": {},
   "source": [
    "or even define the model in one line."
   ]
  },
  {
   "cell_type": "code",
   "execution_count": 5,
   "metadata": {},
   "outputs": [],
   "source": [
    "model = Sequential([Dense(3, input_dim=30),Activation('relu'),\n",
    "    Dense(1),Activation('sigmoid')])"
   ]
  },
  {
   "cell_type": "markdown",
   "metadata": {},
   "source": [
    "# More complex architectures \n",
    "\n",
    "## Functional API\n",
    "\n",
    "Keras' functional API provides tools for defining more complex models, such as multi-output models, directed acyclic graphs, or models with shared layers. \n",
    "\n",
    "Models are defined by creating instances of layers and connecting them directly to each other pair by pair, then defining a model that specifies the layers to act as the input and output to the model.\n",
    "\n",
    "Define the simple model as above using functional API. \n",
    "\n",
    "Start with the input layer. Recall that input layer was not explicitly created in sequential model. Here it must be created and defined as a standalone Input layer that specifies the shape of input data.\n",
    "\n",
    "The input layer takes shape (tensor shape) argument that is a tuple that indicates the dimensionality of the input data.\n",
    "\n",
    "The shape must explicitly leave room for the mini-batch size used when splitting the data during training process. \n",
    "\n",
    "Therefore, the shape tuple is always defined with a hanging last dimension:"
   ]
  },
  {
   "cell_type": "code",
   "execution_count": 9,
   "metadata": {},
   "outputs": [
    {
     "data": {
      "text/plain": [
       "<tf.Tensor 'input_1:0' shape=(?, 30) dtype=float32>"
      ]
     },
     "execution_count": 9,
     "metadata": {},
     "output_type": "execute_result"
    }
   ],
   "source": [
    "from keras.layers import Input\n",
    "\n",
    "# This returns a tensor\n",
    "inputs = Input(shape=(30,))\n",
    "inputs"
   ]
  },
  {
   "cell_type": "markdown",
   "metadata": {},
   "source": [
    "A layer instance is callable (on a tensor), and it returns a tensor. The layers in the model are connected pairwise. <br>\n",
    "This is done by specifying where the input comes from when defining each new layer. \n",
    "\n",
    "The following line of code states that the input of Dense layer `hidden_1` comes from `inputs`. <br> "
   ]
  },
  {
   "cell_type": "code",
   "execution_count": 11,
   "metadata": {},
   "outputs": [],
   "source": [
    "hidden = Dense(3, activation='relu',name='hidden_1')(inputs)"
   ]
  },
  {
   "cell_type": "markdown",
   "metadata": {},
   "source": [
    "Parameter `name` is optional. It can be used to pass a name of any layer as an argument.\n",
    "\n",
    "Define the output layer and create a model."
   ]
  },
  {
   "cell_type": "code",
   "execution_count": 12,
   "metadata": {},
   "outputs": [],
   "source": [
    "from keras.models import Model\n",
    "output = Dense(1, activation='sigmoid')(hidden)\n",
    "model_API = Model(inputs=inputs, outputs=output)"
   ]
  },
  {
   "cell_type": "markdown",
   "metadata": {},
   "source": [
    "Model class is used to create a model from layers. It requires only the input and output layers specifications.\n",
    "\n",
    "Here is the model we built.\n",
    "![model_API](https://ilykei.com/api/fileProxy/documents%2FAdvanced%20Machine%20Learning%2FLecture%207%20AdvML%2Fmodel_API.png)  "
   ]
  },
  {
   "cell_type": "markdown",
   "metadata": {},
   "source": [
    "\n",
    "## Concatenating inputs\n",
    "\n",
    "Consider now more complex models. \n",
    "\n",
    "Sometimes in more complex models inputs from a list need to be *concatenated*.\n",
    "\n",
    "Input is a list of tensors and the result is a single tensor: concatenation of all inputs from the list. \n",
    "\n",
    "All tensors must have the same shape except for the concatenation axis. <br>\n",
    "The meaning of this condition can be illustrated on a simple example of tensors of rank 2 which are matrices. <br>\n",
    "\n",
    "Consider, for example, 2 matrices $A,~B$ with the same number of columns, but different number of rows:\n",
    "\n",
    "$$A=\\left(\\begin{array}{cc} \n",
    "a_{11} & a_{12} & a_{13} & a_{14} \\\\\n",
    "a_{21} & a_{22} & a_{23} & a_{24} \\\\\n",
    "a_{31} & a_{32} & a_{33} & a_{34}\n",
    "\\end{array}\\right)\n",
    "$$\n",
    "\n",
    "$$B=\\left(\\begin{array}{cc} \n",
    "b_{11} & b_{12} & b_{13} & b_{14} \\\\\n",
    "b_{21} & b_{22} & b_{23} & b_{24} \\\\\n",
    "b_{31} & b_{32} & b_{33} & b_{34} \\\\\n",
    "b_{41} & b_{42} & b_{43} & b_{44} \\\\\n",
    "b_{51} & b_{52} & b_{53} & b_{54}\n",
    "\\end{array}\\right)\n",
    "$$\n",
    "\n",
    "These matrices as inputs can be concatenated by first dimension (axis), i.e. by appending rows of $B$ to rows of $A$:\n",
    "\n",
    "$$\\left(\\begin{array}{cc} \n",
    "a_{11} & a_{12} & a_{13} & a_{14} \\\\\n",
    "a_{21} & a_{22} & a_{23} & a_{24} \\\\\n",
    "a_{31} & a_{32} & a_{33} & a_{34} \\\\\n",
    "b_{11} & b_{12} & b_{13} & b_{14} \\\\\n",
    "b_{21} & b_{22} & b_{23} & b_{24} \\\\\n",
    "b_{31} & b_{32} & b_{33} & b_{34} \\\\\n",
    "b_{41} & b_{42} & b_{43} & b_{44} \\\\\n",
    "b_{51} & b_{52} & b_{53} & b_{54}\n",
    "\\end{array}\\right)\n",
    "$$\n",
    "\n",
    "But they cannot be concatenated by the second dimension: columns of $A$ cannot be concatenated with columns of $B$ because the numbers of rows are different.\n",
    "\n",
    "Build a model with two inputs using layer of concatenated inputs."
   ]
  },
  {
   "cell_type": "code",
   "execution_count": 13,
   "metadata": {},
   "outputs": [],
   "source": [
    "from keras.layers import concatenate\n",
    "input1 = Input(shape=(10,), name='input_1')\n",
    "hidden = Dense(3, activation='relu',name='hidden1')(input1)\n",
    "input2 = Input(shape=(5,), name='input_2')\n",
    "merge = concatenate([hidden,input2], name='merge')\n",
    "hidden2 = Dense(3, activation='relu',name='hidden2')(merge)\n",
    "output = Dense(1, activation='sigmoid')(hidden2)\n",
    "model_2_inputs = Model(inputs=[input1,input2], outputs=output)\n",
    "plot_model(model_2_inputs, to_file='model_2_inputs.png',show_shapes=True,show_layer_names=True)"
   ]
  },
  {
   "cell_type": "markdown",
   "metadata": {},
   "source": [
    "Here is the result.\n",
    "![model_2_inputs](https://ilykei.com/api/fileProxy/documents%2FAdvanced%20Machine%20Learning%2FLecture%207%20AdvML%2Fmodel_2_inputs.png)  \n",
    "\n",
    "## Shared layers\n",
    "\n",
    "Another way of adding flexibility to network design is shared layers.\n",
    "\n",
    "To share a layer across different inputs, simply instantiate the layer once, then call it on as many inputs as necessary:"
   ]
  },
  {
   "cell_type": "code",
   "execution_count": 14,
   "metadata": {},
   "outputs": [],
   "source": [
    "input1 = Input(shape=(8,), name='input_1')\n",
    "input2 = Input(shape=(8,), name='input_2')\n",
    "shared = Dense(5, activation='relu',name='shared')\n",
    "x1 = shared(input1)\n",
    "x2 = shared(input2)\n",
    "output1 = Dense(1, activation='sigmoid', name='output_1')(x1)\n",
    "output2 = Dense(1, activation='sigmoid', name='output_2')(x2)\n",
    "model_shared = Model(inputs=[input1,input2], outputs=[output1,output2])\n",
    "plot_model(model_shared, to_file='model_shared.png',\n",
    "           show_shapes=True,show_layer_names=True)"
   ]
  },
  {
   "cell_type": "markdown",
   "metadata": {},
   "source": [
    "The resulting model has two inputs, two outputs and shared layer\n",
    "![model_shared](https://ilykei.com/api/fileProxy/documents%2FAdvanced%20Machine%20Learning%2FLecture%207%20AdvML%2Fmodel_shared.png)  \n",
    "\n",
    "Note that when we reuse the same layer instance  multiple times, the weights of the layer  are also being reused  (it is effectively the same layer)"
   ]
  },
  {
   "cell_type": "markdown",
   "metadata": {},
   "source": [
    "<font color=blue>\n",
    "\n",
    "**Assignment 1**\n",
    "\n",
    "Write code creating the following network architecture as *test_model1*.\n",
    "\n",
    "![test_model1](https://ilykei.com/api/fileProxy/documents%2FAdvanced%20Machine%20Learning%2FLecture%207%20AdvML%2Ftest_model1.png) \n",
    "\n",
    "Print out the plot of the resulting model.\n",
    "\n",
    "Enter code in the following cell."
   ]
  },
  {
   "cell_type": "code",
   "execution_count": 15,
   "metadata": {
    "scrolled": true
   },
   "outputs": [],
   "source": [
    "#Skipped code\n",
    "# Assignment 1\n",
    "\n",
    "\n",
    "\n",
    "\n",
    "\n",
    "\n",
    "\n",
    "#plot_model(test_model1, to_file='test_model1.png',\n",
    "#           show_shapes=True,show_layer_names=True)"
   ]
  },
  {
   "cell_type": "code",
   "execution_count": 17,
   "metadata": {},
   "outputs": [],
   "source": [
    "# Remove this cell\n",
    "# Skipped code\n",
    "# Assignment 1\n",
    "input1 = Input(shape=(3,), name='input_1')\n",
    "hidden1 = Dense(5, activation='relu',name='hidden1')(input1)\n",
    "input2 = Input(shape=(6,), name='input_2')\n",
    "merge1 = concatenate([hidden1,input2], name='merge1')\n",
    "input3 = Input(shape=(11,), name='input_3')\n",
    "shared = Dense(11, activation='relu',name='shared')\n",
    "x1 = shared(merge1)\n",
    "x2 = shared(input3)\n",
    "x2 = Dense(9, activation='relu',name='hidden2')(x2)\n",
    "merge = concatenate([x1,x2], name='merge2')\n",
    "output1 = Dense(1, activation='sigmoid', name='output_1')(merge)\n",
    "test_model1 = Model(inputs=[input1,input2,input3], outputs=output1)\n",
    "\n",
    "plot_model(test_model1, to_file='test_model1.png',\n",
    "           show_shapes=True,show_layer_names=True)\n",
    "\n",
    "# Remove the following cell with output"
   ]
  },
  {
   "cell_type": "markdown",
   "metadata": {},
   "source": [
    "## Merge layers\n",
    "\n",
    "Merge layers is a set of layers that merge input tensors  executing arithmetic operations over them or just concatenating them. \n",
    "\n",
    "The list of merge layers is not large: \n",
    "- Add, Subtract, Multiply, Average, Maximum  - take as input a list of tensors, all of the same shape, and return a single tensor (also of the same shape) - the result of corresponding pointwise arithmetic operation \n",
    "- Dot - dot product, \n",
    "- Concatenate has been already discussed earlier. \n",
    "\n",
    "Functional API uses lowercase variants of their names. Import them from `keras.layers` before using, e.g.\n",
    "\n",
    "`from keras.layers import add`\n",
    "\n",
    "NB! Though `subtract` layer is described in Keras documentation it may not work in earlier versions giving the error message **\"cannot import name 'subtract'\"** when you try to import it. \n",
    "In order to subtract two inputs you may use `Lambda` core layer that wraps arbitrary expression as a Layer object. For example, the following line:  "
   ]
  },
  {
   "cell_type": "code",
   "execution_count": 17,
   "metadata": {},
   "outputs": [],
   "source": [
    "from keras.layers import Input, Lambda\n",
    "sqr_input = Lambda(lambda x: x*x)(input1)"
   ]
  },
  {
   "cell_type": "markdown",
   "metadata": {},
   "source": [
    "defines layer that returns squared input. \n",
    "\n",
    "Here is a way of subtracting two inputs using `Lambda` layer"
   ]
  },
  {
   "cell_type": "code",
   "execution_count": 18,
   "metadata": {},
   "outputs": [],
   "source": [
    "x = Input(shape=(100,))\n",
    "y = Input(shape=(100,))\n",
    "# Note: shapes must match!\n",
    "subtract_layer = Lambda(lambda inputs: inputs[0] - inputs[1])\n",
    "diff = subtract_layer([x, y])"
   ]
  },
  {
   "cell_type": "markdown",
   "metadata": {},
   "source": [
    "<font color=blue>\n",
    "    \n",
    "**Assignment 2**\n",
    "\n",
    "Create network with two inputs. <br>\n",
    "Input shapes are (10,) and (20,). <br>\n",
    "Each input is processed with its own Dense layer `hidden1` and `hidden2` consisting of 5 neurons. <br>\n",
    "The network output should be square of differences of outputs of `hidden1` and `hidden2`. <br>\n",
    "Draw this network. "
   ]
  },
  {
   "cell_type": "code",
   "execution_count": 19,
   "metadata": {
    "scrolled": true
   },
   "outputs": [],
   "source": [
    "#Skipped code\n",
    "# Assignment 2 \n",
    "\n"
   ]
  },
  {
   "cell_type": "markdown",
   "metadata": {},
   "source": [
    "![test_model5](https://ilykei.com/api/fileProxy/documents%2FAdvanced%20Machine%20Learning%2FLecture%207%20AdvML%2Ftest_model5.png)"
   ]
  },
  {
   "cell_type": "code",
   "execution_count": 20,
   "metadata": {},
   "outputs": [],
   "source": [
    "# Skipped code\n",
    "# Assignment 2\n",
    "\n",
    "from keras.layers import multiply\n",
    "input1 = Input(shape=(10,), name='input_1')\n",
    "input2 = Input(shape=(20,), name='input_2')\n",
    "hidden1 = Dense(5, activation='relu',name='hidden1')(input1)\n",
    "hidden2 = Dense(5, activation='relu',name='hidden2')(input2)\n",
    "subtract_layer = Lambda(lambda inputs: inputs[0] - inputs[1])\n",
    "diff = subtract_layer([hidden1, hidden2])\n",
    "output = multiply([diff,diff])\n",
    "test_model5 = Model(inputs=[input1,input2], outputs=output)\n",
    "plot_model(test_model5, to_file='test_model5.png',\n",
    "           show_shapes=True,show_layer_names=True)"
   ]
  },
  {
   "cell_type": "markdown",
   "metadata": {},
   "source": [
    "# Compile model\n",
    "\n",
    "Once the model architecture is finalized, configure its learning process using `compile()`, for example:"
   ]
  },
  {
   "cell_type": "code",
   "execution_count": 21,
   "metadata": {},
   "outputs": [],
   "source": [
    "model.compile(loss='categorical_crossentropy', optimizer='sgd')"
   ]
  },
  {
   "cell_type": "markdown",
   "metadata": {},
   "source": [
    "Here `model` is the sequential model created above.  \n",
    "\n",
    "Compillation of the model requires declaration of the loss function (objective function) and the optimizer.\n",
    "\n",
    "Keras has a variety of [loss functions](https://keras.io/losses/) and [optimizers](https://keras.io/optimizers/) to choose from. \n",
    "\n",
    "An optional parameter `metrics` also can be set. Metric is a function (or list of functions) that is used to judge the performance of the model. \n",
    "\n",
    "Metric can be selected from the [list of available metrics](https://keras.io/metrics/) or passed as custom metric function name during the compilation step. <br>\n",
    "The function would need to take  `(y_true, y_pred)` as arguments and return a single tensor value.\n",
    "\n",
    "In the example below we use logarithmic loss as objective function, which for a binary classification problem is defined in Keras as `binary_crossentropy`. \n",
    "\n",
    "We can also use gradient descent algorithm `adam` and choose `accuracy` as metric for collectiing and reporting during training."
   ]
  },
  {
   "cell_type": "code",
   "execution_count": 22,
   "metadata": {},
   "outputs": [],
   "source": [
    "model.compile(loss='binary_crossentropy', optimizer='adam',\n",
    "              metrics=['accuracy'])"
   ]
  },
  {
   "cell_type": "markdown",
   "metadata": {},
   "source": [
    "# Data for example\n",
    "\n",
    "Example in this notebook use [**Breast cancer Wisconsin dataset**](https://archive.ics.uci.edu/ml/datasets/Breast+Cancer+Wisconsin+(Diagnostic)). \n",
    "\n",
    "The breast cancer dataset is a well known data for binary classification. It was created by Dr. William H. Wolberg, physician at the University Of Wisconsin Hospital at Madison, Wisconsin, USA.\n",
    "\n",
    "Features are created from a digitized images of a [fine needle aspirate (FNA)](https://en.wikipedia.org/wiki/Fine-needle_aspiration), a biopsy method, of a breast mass. They describe characteristics of the cell nuclei present in the image.\n",
    "\n",
    "To create the dataset Dr. Wolberg used ﬂuid samples, taken from patients with solid breast masses and graphical software [Xcyt](http://software.broadinstitute.org/mpg/xcyt/) capable of performing analysis of cytological features on a digital scan. \n",
    "\n",
    "Main research article on the subject of this analysis, including an image of malignant cells, is [Wisconsin Breast Cancer Dataset and Machine Learning for Breast Cancer Detection, by Lucas Rodrigues Borges](https://www.researchgate.net/publication/311950799_Analysis_of_the_Wisconsin_Breast_Cancer_Dataset_and_Machine_Learning_for_Breast_Cancer_Detection [accessed Nov 09 2017]).\n",
    "\n",
    "The data set has following characteristics:\n",
    "\n",
    "- Classes:\t2\n",
    "- Samples per class:\t212(malignant), 357(benign)\n",
    "- Samples total:\t569\n",
    "- Dimensionality:\t30\n",
    "- Features:\treal, positive\n",
    "\n",
    "Load the data using utility `load_breast_cancer` from `sklearn.datasets` module. <br>\n",
    "Print names of the features and dimensions of the data."
   ]
  },
  {
   "cell_type": "code",
   "execution_count": 23,
   "metadata": {
    "scrolled": true
   },
   "outputs": [
    {
     "name": "stdout",
     "output_type": "stream",
     "text": [
      "['mean radius' 'mean texture' 'mean perimeter' 'mean area'\n",
      " 'mean smoothness' 'mean compactness' 'mean concavity'\n",
      " 'mean concave points' 'mean symmetry' 'mean fractal dimension'\n",
      " 'radius error' 'texture error' 'perimeter error' 'area error'\n",
      " 'smoothness error' 'compactness error' 'concavity error'\n",
      " 'concave points error' 'symmetry error' 'fractal dimension error'\n",
      " 'worst radius' 'worst texture' 'worst perimeter' 'worst area'\n",
      " 'worst smoothness' 'worst compactness' 'worst concavity'\n",
      " 'worst concave points' 'worst symmetry' 'worst fractal dimension']\n",
      "data (569, 30) labels (569,)\n"
     ]
    }
   ],
   "source": [
    "%matplotlib inline\n",
    "from sklearn.datasets import load_breast_cancer\n",
    "data  = load_breast_cancer()\n",
    "print(data.feature_names)\n",
    "print('data',data.data.shape,'labels',data.target.shape)"
   ]
  },
  {
   "cell_type": "markdown",
   "metadata": {},
   "source": [
    "# Fit model on training data\n",
    "\n",
    "Training or fitting the model on loaded data is done by calling method `fit` on the model. \n",
    "\n",
    "Split the breast cancer dataset into train and test subsets and train simple sequential architecture defined above with one hidden layer with 3 units and `relu` activation function, followed by one output unit with sigmoid activation.\n",
    "\n",
    "![Model plot](https://ilykei.com/api/fileProxy/documents%2FAdvanced%20Machine%20Learning%2FLecture%207%20AdvML%2FR_nn_plot.png)\n"
   ]
  },
  {
   "cell_type": "code",
   "execution_count": 24,
   "metadata": {},
   "outputs": [],
   "source": [
    "from sklearn.model_selection import train_test_split\n",
    "\n",
    "X_train, X_test, y_train, y_test = train_test_split(data.data, data.target,\n",
    "                                                    test_size=0.2, random_state=1)\n",
    "def get_model_simple():\n",
    "    model = Sequential([Dense(3, input_dim=30),Activation('relu'),\n",
    "    Dense(1),Activation('sigmoid')])\n",
    "    model.compile(loss='binary_crossentropy', optimizer='adam',\n",
    "                  metrics=['accuracy'])\n",
    "    return model\n"
   ]
  },
  {
   "cell_type": "markdown",
   "metadata": {},
   "source": [
    "Creating and compiling model by a function instead of creating it directly allows experimenting and fitting with the model multiple times. <br>\n",
    "If model is fitted again it will use the previously fitted weights which makes fitting experiment incorrect. <br>\n",
    "In order to reinitialize weights call function generating the model.  \n",
    "\n",
    "Fit the model on train set using 10 epochs and iterating on the data in batches of 32 samples.\n",
    "\n",
    "- Parameter `epoch` is an arbitrary cutoff, typically means one pass over entire dataset, used to separate training process in distinct phases. <br>\n",
    "- Parameter `batch_size` is size of batch, a set of samples (observations) that is a subsample processed simultaneously. Processing of each batch results in one update of the network weights. <br>\n",
    "- Batch approximates distribution of weights better than single observation. The larger the batch the better the approximation. But larger batch processing requires more memory. \n",
    "- For evaluation or prediction it is recommended to use as large batch size as mempry allows since it makes the inference faster."
   ]
  },
  {
   "cell_type": "code",
   "execution_count": 25,
   "metadata": {},
   "outputs": [
    {
     "name": "stdout",
     "output_type": "stream",
     "text": [
      "Epoch 1/30\n",
      "455/455 [==============================] - 0s 1ms/step - loss: 10.0959 - acc: 0.3736\n",
      "Epoch 2/30\n",
      "455/455 [==============================] - 0s 134us/step - loss: 10.0959 - acc: 0.3736\n",
      "Epoch 3/30\n",
      "455/455 [==============================] - 0s 139us/step - loss: 10.0959 - acc: 0.3736\n",
      "Epoch 4/30\n",
      "455/455 [==============================] - 0s 134us/step - loss: 10.0959 - acc: 0.3736\n",
      "Epoch 5/30\n",
      "455/455 [==============================] - 0s 93us/step - loss: 10.0959 - acc: 0.3736\n",
      "Epoch 6/30\n",
      "455/455 [==============================] - 0s 162us/step - loss: 10.0959 - acc: 0.3736\n",
      "Epoch 7/30\n",
      "455/455 [==============================] - 0s 190us/step - loss: 10.0959 - acc: 0.3736\n",
      "Epoch 8/30\n",
      "455/455 [==============================] - 0s 163us/step - loss: 10.0960 - acc: 0.3736\n",
      "Epoch 9/30\n",
      "455/455 [==============================] - 0s 145us/step - loss: 10.0959 - acc: 0.3736\n",
      "Epoch 10/30\n",
      "455/455 [==============================] - 0s 166us/step - loss: 10.0959 - acc: 0.3736\n",
      "Epoch 11/30\n",
      "455/455 [==============================] - 0s 158us/step - loss: 10.0960 - acc: 0.3736\n",
      "Epoch 12/30\n",
      "455/455 [==============================] - 0s 82us/step - loss: 10.0959 - acc: 0.3736\n",
      "Epoch 13/30\n",
      "455/455 [==============================] - 0s 249us/step - loss: 10.0959 - acc: 0.37360s - loss: 10.6495 - acc: 0.33\n",
      "Epoch 14/30\n",
      "455/455 [==============================] - 0s 521us/step - loss: 10.0959 - acc: 0.3736\n",
      "Epoch 15/30\n",
      "455/455 [==============================] - 0s 167us/step - loss: 10.0959 - acc: 0.3736\n",
      "Epoch 16/30\n",
      "455/455 [==============================] - 0s 105us/step - loss: 10.0959 - acc: 0.3736\n",
      "Epoch 17/30\n",
      "455/455 [==============================] - 0s 234us/step - loss: 10.0959 - acc: 0.3736\n",
      "Epoch 18/30\n",
      "455/455 [==============================] - 0s 143us/step - loss: 10.0959 - acc: 0.3736\n",
      "Epoch 19/30\n",
      "455/455 [==============================] - 0s 188us/step - loss: 10.0959 - acc: 0.3736\n",
      "Epoch 20/30\n",
      "455/455 [==============================] - 0s 110us/step - loss: 10.0959 - acc: 0.3736\n",
      "Epoch 21/30\n",
      "455/455 [==============================] - 0s 205us/step - loss: 10.0959 - acc: 0.3736\n",
      "Epoch 22/30\n",
      "455/455 [==============================] - 0s 245us/step - loss: 10.0959 - acc: 0.3736\n",
      "Epoch 23/30\n",
      "455/455 [==============================] - 0s 167us/step - loss: 10.0959 - acc: 0.3736\n",
      "Epoch 24/30\n",
      "455/455 [==============================] - ETA: 0s - loss: 10.1900 - acc: 0.36 - 0s 153us/step - loss: 10.0959 - acc: 0.3736\n",
      "Epoch 25/30\n",
      "455/455 [==============================] - 0s 124us/step - loss: 10.0959 - acc: 0.3736\n",
      "Epoch 26/30\n",
      "455/455 [==============================] - 0s 118us/step - loss: 10.0959 - acc: 0.3736\n",
      "Epoch 27/30\n",
      "455/455 [==============================] - 0s 178us/step - loss: 10.0959 - acc: 0.3736\n",
      "Epoch 28/30\n",
      "455/455 [==============================] - 0s 170us/step - loss: 10.0959 - acc: 0.3736\n",
      "Epoch 29/30\n",
      "455/455 [==============================] - 0s 158us/step - loss: 10.0959 - acc: 0.3736\n",
      "Epoch 30/30\n",
      "455/455 [==============================] - 0s 98us/step - loss: 10.0959 - acc: 0.3736\n"
     ]
    },
    {
     "data": {
      "text/plain": [
       "<keras.callbacks.History at 0x7f588a547fd0>"
      ]
     },
     "execution_count": 25,
     "metadata": {},
     "output_type": "execute_result"
    }
   ],
   "source": [
    "model = get_model_simple()\n",
    "model.fit(X_train, y_train, epochs=30, batch_size=32)"
   ]
  },
  {
   "cell_type": "markdown",
   "metadata": {},
   "source": [
    "There is no progress in training process: loss stalled and accuracy does not go high enough (results may vary from run to run). <br>\n",
    "Scale the input data and fit the model again. <br>\n",
    "Note that first call of the scaler is `fit_transform`, but the second is just `transform`: test sample are scaled by the same amounts as train. "
   ]
  },
  {
   "cell_type": "code",
   "execution_count": 26,
   "metadata": {},
   "outputs": [
    {
     "name": "stdout",
     "output_type": "stream",
     "text": [
      "Epoch 1/30\n",
      "455/455 [==============================] - 0s 770us/step - loss: 0.8313 - acc: 0.3407\n",
      "Epoch 2/30\n",
      "455/455 [==============================] - 0s 124us/step - loss: 0.7564 - acc: 0.4484\n",
      "Epoch 3/30\n",
      "455/455 [==============================] - 0s 163us/step - loss: 0.6997 - acc: 0.5736\n",
      "Epoch 4/30\n",
      "455/455 [==============================] - 0s 282us/step - loss: 0.6536 - acc: 0.6066\n",
      "Epoch 5/30\n",
      "455/455 [==============================] - 0s 236us/step - loss: 0.6165 - acc: 0.6264\n",
      "Epoch 6/30\n",
      "455/455 [==============================] - 0s 282us/step - loss: 0.5852 - acc: 0.6308\n",
      "Epoch 7/30\n",
      "455/455 [==============================] - 0s 114us/step - loss: 0.5588 - acc: 0.6418\n",
      "Epoch 8/30\n",
      "455/455 [==============================] - 0s 173us/step - loss: 0.5351 - acc: 0.6505\n",
      "Epoch 9/30\n",
      "455/455 [==============================] - 0s 164us/step - loss: 0.5139 - acc: 0.6769\n",
      "Epoch 10/30\n",
      "455/455 [==============================] - 0s 181us/step - loss: 0.4948 - acc: 0.7077\n",
      "Epoch 11/30\n",
      "455/455 [==============================] - 0s 188us/step - loss: 0.4764 - acc: 0.7275\n",
      "Epoch 12/30\n",
      "455/455 [==============================] - 0s 151us/step - loss: 0.4579 - acc: 0.7802\n",
      "Epoch 13/30\n",
      "455/455 [==============================] - 0s 120us/step - loss: 0.4390 - acc: 0.8396\n",
      "Epoch 14/30\n",
      "455/455 [==============================] - 0s 152us/step - loss: 0.4185 - acc: 0.8791\n",
      "Epoch 15/30\n",
      "455/455 [==============================] - 0s 145us/step - loss: 0.3963 - acc: 0.9055\n",
      "Epoch 16/30\n",
      "455/455 [==============================] - 0s 162us/step - loss: 0.3725 - acc: 0.9209\n",
      "Epoch 17/30\n",
      "455/455 [==============================] - 0s 187us/step - loss: 0.3475 - acc: 0.9143\n",
      "Epoch 18/30\n",
      "455/455 [==============================] - 0s 205us/step - loss: 0.3239 - acc: 0.9165\n",
      "Epoch 19/30\n",
      "455/455 [==============================] - 0s 271us/step - loss: 0.3018 - acc: 0.9165\n",
      "Epoch 20/30\n",
      "455/455 [==============================] - 0s 193us/step - loss: 0.2814 - acc: 0.9209\n",
      "Epoch 21/30\n",
      "455/455 [==============================] - 0s 156us/step - loss: 0.2632 - acc: 0.9253\n",
      "Epoch 22/30\n",
      "455/455 [==============================] - 0s 182us/step - loss: 0.2468 - acc: 0.9319\n",
      "Epoch 23/30\n",
      "455/455 [==============================] - 0s 184us/step - loss: 0.2321 - acc: 0.9319\n",
      "Epoch 24/30\n",
      "455/455 [==============================] - 0s 165us/step - loss: 0.2188 - acc: 0.9385\n",
      "Epoch 25/30\n",
      "455/455 [==============================] - 0s 181us/step - loss: 0.2069 - acc: 0.9429\n",
      "Epoch 26/30\n",
      "455/455 [==============================] - 0s 189us/step - loss: 0.1963 - acc: 0.9473\n",
      "Epoch 27/30\n",
      "455/455 [==============================] - 0s 162us/step - loss: 0.1866 - acc: 0.9473\n",
      "Epoch 28/30\n",
      "455/455 [==============================] - 0s 196us/step - loss: 0.1779 - acc: 0.9516\n",
      "Epoch 29/30\n",
      "455/455 [==============================] - 0s 207us/step - loss: 0.1701 - acc: 0.9538\n",
      "Epoch 30/30\n",
      "455/455 [==============================] - 0s 163us/step - loss: 0.1628 - acc: 0.9582\n"
     ]
    }
   ],
   "source": [
    "from sklearn.preprocessing import StandardScaler\n",
    "scaler = StandardScaler()\n",
    "X_train = scaler.fit_transform(X_train)\n",
    "X_test = scaler.transform(X_test)\n",
    "model = get_model_simple()\n",
    "hist = model.fit(X_train, y_train, epochs=30, batch_size=32)"
   ]
  },
  {
   "cell_type": "markdown",
   "metadata": {},
   "source": [
    "After scaling both logloss and accuracy measures have improved very significantly."
   ]
  },
  {
   "cell_type": "markdown",
   "metadata": {},
   "source": [
    "Method `fit` returns a History object. <br>\n",
    "Its `.history` attribute is a record of training loss values and metrics values at successive epochs, as well as validation loss values and validation metrics values (if applicable)."
   ]
  },
  {
   "cell_type": "code",
   "execution_count": 27,
   "metadata": {},
   "outputs": [
    {
     "name": "stdout",
     "output_type": "stream",
     "text": [
      "dict_keys(['loss', 'acc'])\n",
      "best train loss 0.162841014466\n"
     ]
    }
   ],
   "source": [
    "print(hist.history.keys())\n",
    "print('best train loss', min(hist.history[\"loss\"]))"
   ]
  },
  {
   "cell_type": "markdown",
   "metadata": {},
   "source": [
    "Now predict test labels using method *'predict'* and evaluate prediction."
   ]
  },
  {
   "cell_type": "code",
   "execution_count": 28,
   "metadata": {},
   "outputs": [
    {
     "data": {
      "text/plain": [
       "(114, 1)"
      ]
     },
     "execution_count": 28,
     "metadata": {},
     "output_type": "execute_result"
    }
   ],
   "source": [
    "pred1 = model.predict(X_test)\n",
    "pred1.shape"
   ]
  },
  {
   "cell_type": "markdown",
   "metadata": {},
   "source": [
    "Method `evaluate` returns values of all metrics the model calculates. Their names are in the attribute `metrics_names`."
   ]
  },
  {
   "cell_type": "code",
   "execution_count": 29,
   "metadata": {},
   "outputs": [
    {
     "name": "stdout",
     "output_type": "stream",
     "text": [
      "['loss', 'acc']\n",
      "[0.2275468678328029, 0.90350877297552012]\n"
     ]
    }
   ],
   "source": [
    "print(model.metrics_names)\n",
    "print(model.evaluate(X_test, y_test,verbose=0))"
   ]
  },
  {
   "cell_type": "code",
   "execution_count": 30,
   "metadata": {},
   "outputs": [
    {
     "data": {
      "text/plain": [
       "Text(0.5,1,'Probability of class 1')"
      ]
     },
     "execution_count": 30,
     "metadata": {},
     "output_type": "execute_result"
    },
    {
     "data": {
      "image/png": "[encoded data removed]",
      "text/plain": [
       "<Figure size 432x288 with 1 Axes>"
      ]
     },
     "metadata": {},
     "output_type": "display_data"
    }
   ],
   "source": [
    "# plot predictions and true labels\n",
    "# blue for class 0, orange for class 1\n",
    "import matplotlib.pyplot as plt\n",
    "color = ['blue' if y==0 else 'orange' for y in y_test]\n",
    "plt.scatter(range(len(pred1)), pred1, color=color)\n",
    "plt.title('Probability of class 1')"
   ]
  },
  {
   "cell_type": "markdown",
   "metadata": {},
   "source": [
    "<font color=blue>\n",
    "    \n",
    "**Assignment 3** <br>\n",
    "Define sequential model with two hidden layers of 5 and 10 units followed by `relu` activation and one output unit with `sigmoid` activation similar to the architecture in [MScA_31009_ML_DeepLearning_TF_Intro_3.html](https://ilykei.com/api/fileProxy/documents%2FAdvanced%20Data%20Mining%20and%20Predictive%20Analytics%2031009%2FLecture%20Deep%20Learning%2FMScA_31009_ML_DeepLearning_TF_Intro_3.html).\n",
    "Create a function `get_model_1()` that adds layers and compiles the model with loss as `binary_crossentropy`, optimizer `adam` and metrics `accuracy`."
   ]
  },
  {
   "cell_type": "markdown",
   "metadata": {},
   "source": [
    "\n",
    "![Model plot](https://ilykei.com/api/fileProxy/documents%2FAdvanced%20Machine%20Learning%2FLecture%207%20AdvML%2FWBCD_5_10_Architecture.png)"
   ]
  },
  {
   "cell_type": "markdown",
   "metadata": {},
   "source": [
    "<font color=blue>\n",
    "Fit the model using 30 epochs and batch size 32. <br>\n",
    "Print best train loss. <br>\n",
    "Evaluate the model on test data using both metrics. <br>\n",
    "Plot predictions and true labels. <br>\n",
    "Plot predictions and true labels.\n",
    "Enter code in the following cell."
   ]
  },
  {
   "cell_type": "code",
   "execution_count": 31,
   "metadata": {},
   "outputs": [],
   "source": [
    "# Skipped code\n",
    "# function get_model_1(), compilation and fitting\n",
    "# evaluate model on test data, print both metrics\n",
    "# dict_keys(['loss', 'acc'])\n",
    "# best train loss 0.0752962507881\n",
    "# ['loss', 'acc']\n",
    "# [0.11679617080249284, 0.97368421052631582]\n",
    "# Plot predictions and true labels\n",
    "\n"
   ]
  },
  {
   "cell_type": "code",
   "execution_count": 32,
   "metadata": {},
   "outputs": [],
   "source": [
    "# Remove skipped code\n",
    "def get_model_1():\n",
    "    model =  Sequential()\n",
    "    model.add(Dense(5, input_dim=30,activation='relu'))\n",
    "    model.add(Dense(10,activation='relu'))\n",
    "    model.add(Dense(1,activation='sigmoid'))\n",
    "    model.compile(loss='binary_crossentropy', optimizer='adam',\n",
    "                  metrics=['accuracy'])    \n",
    "    return model\n"
   ]
  },
  {
   "cell_type": "code",
   "execution_count": 33,
   "metadata": {},
   "outputs": [
    {
     "name": "stdout",
     "output_type": "stream",
     "text": [
      "Epoch 1/30\n",
      "455/455 [==============================] - 0s 872us/step - loss: 0.6844 - acc: 0.5341\n",
      "Epoch 2/30\n",
      "455/455 [==============================] - 0s 156us/step - loss: 0.5819 - acc: 0.6088\n",
      "Epoch 3/30\n",
      "455/455 [==============================] - 0s 118us/step - loss: 0.4976 - acc: 0.7648\n",
      "Epoch 4/30\n",
      "455/455 [==============================] - 0s 189us/step - loss: 0.4330 - acc: 0.8725\n",
      "Epoch 5/30\n",
      "455/455 [==============================] - 0s 100us/step - loss: 0.3812 - acc: 0.8923\n",
      "Epoch 6/30\n",
      "455/455 [==============================] - 0s 193us/step - loss: 0.3377 - acc: 0.9033\n",
      "Epoch 7/30\n",
      "455/455 [==============================] - 0s 175us/step - loss: 0.2994 - acc: 0.9143\n",
      "Epoch 8/30\n",
      "455/455 [==============================] - 0s 223us/step - loss: 0.2666 - acc: 0.9165\n",
      "Epoch 9/30\n",
      "455/455 [==============================] - 0s 161us/step - loss: 0.2396 - acc: 0.9253\n",
      "Epoch 10/30\n",
      "455/455 [==============================] - 0s 134us/step - loss: 0.2164 - acc: 0.9363\n",
      "Epoch 11/30\n",
      "455/455 [==============================] - 0s 193us/step - loss: 0.1983 - acc: 0.9385\n",
      "Epoch 12/30\n",
      "455/455 [==============================] - 0s 128us/step - loss: 0.1834 - acc: 0.9385\n",
      "Epoch 13/30\n",
      "455/455 [==============================] - 0s 444us/step - loss: 0.1717 - acc: 0.9429\n",
      "Epoch 14/30\n",
      "455/455 [==============================] - 0s 233us/step - loss: 0.1612 - acc: 0.9429\n",
      "Epoch 15/30\n",
      "455/455 [==============================] - 0s 204us/step - loss: 0.1518 - acc: 0.9495\n",
      "Epoch 16/30\n",
      "455/455 [==============================] - 0s 133us/step - loss: 0.1436 - acc: 0.9516\n",
      "Epoch 17/30\n",
      "455/455 [==============================] - 0s 217us/step - loss: 0.1357 - acc: 0.9516\n",
      "Epoch 18/30\n",
      "455/455 [==============================] - 0s 274us/step - loss: 0.1290 - acc: 0.9538\n",
      "Epoch 19/30\n",
      "455/455 [==============================] - 0s 224us/step - loss: 0.1229 - acc: 0.9604\n",
      "Epoch 20/30\n",
      "455/455 [==============================] - 0s 293us/step - loss: 0.1172 - acc: 0.9604\n",
      "Epoch 21/30\n",
      "455/455 [==============================] - 0s 210us/step - loss: 0.1122 - acc: 0.9626\n",
      "Epoch 22/30\n",
      "455/455 [==============================] - 0s 135us/step - loss: 0.1073 - acc: 0.9648\n",
      "Epoch 23/30\n",
      "455/455 [==============================] - 0s 129us/step - loss: 0.1032 - acc: 0.9670\n",
      "Epoch 24/30\n",
      "455/455 [==============================] - 0s 127us/step - loss: 0.0993 - acc: 0.9692\n",
      "Epoch 25/30\n",
      "455/455 [==============================] - 0s 154us/step - loss: 0.0955 - acc: 0.9692\n",
      "Epoch 26/30\n",
      "455/455 [==============================] - 0s 194us/step - loss: 0.0921 - acc: 0.9692\n",
      "Epoch 27/30\n",
      "455/455 [==============================] - 0s 97us/step - loss: 0.0883 - acc: 0.9692\n",
      "Epoch 28/30\n",
      "455/455 [==============================] - 0s 105us/step - loss: 0.0856 - acc: 0.9692\n",
      "Epoch 29/30\n",
      "455/455 [==============================] - 0s 183us/step - loss: 0.0826 - acc: 0.9736\n",
      "Epoch 30/30\n",
      "455/455 [==============================] - 0s 149us/step - loss: 0.0796 - acc: 0.9736\n"
     ]
    }
   ],
   "source": [
    "# Remove skipped code\n",
    "model = get_model_1()\n",
    "hist = model.fit(X_train, y_train, epochs=30, batch_size=32)"
   ]
  },
  {
   "cell_type": "code",
   "execution_count": 34,
   "metadata": {},
   "outputs": [
    {
     "name": "stdout",
     "output_type": "stream",
     "text": [
      "dict_keys(['loss', 'acc'])\n",
      "best train loss 0.0796290128768\n"
     ]
    }
   ],
   "source": [
    "# Remove skipped code\n",
    "print(hist.history.keys())\n",
    "print('best train loss', min(hist.history[\"loss\"]))"
   ]
  },
  {
   "cell_type": "code",
   "execution_count": 35,
   "metadata": {},
   "outputs": [
    {
     "data": {
      "text/plain": [
       "(114, 1)"
      ]
     },
     "execution_count": 35,
     "metadata": {},
     "output_type": "execute_result"
    }
   ],
   "source": [
    "# Remove skipped code\n",
    "pred1 = model.predict(X_test)\n",
    "pred1.shape"
   ]
  },
  {
   "cell_type": "code",
   "execution_count": 36,
   "metadata": {
    "scrolled": true
   },
   "outputs": [
    {
     "name": "stdout",
     "output_type": "stream",
     "text": [
      "['loss', 'acc']\n",
      "[0.11987247036998733, 0.97368421052631582]\n"
     ]
    }
   ],
   "source": [
    "# Remove skipped code\n",
    "print(model.metrics_names)\n",
    "print(model.evaluate(X_test, y_test,verbose=0))"
   ]
  },
  {
   "cell_type": "code",
   "execution_count": 37,
   "metadata": {},
   "outputs": [
    {
     "data": {
      "text/plain": [
       "Text(0.5,1,'Probability of class 1')"
      ]
     },
     "execution_count": 37,
     "metadata": {},
     "output_type": "execute_result"
    },
    {
     "data": {
      "image/png": "[encoded data removed]",
      "text/plain": [
       "<Figure size 432x288 with 1 Axes>"
      ]
     },
     "metadata": {},
     "output_type": "display_data"
    }
   ],
   "source": [
    "# Remove skipped code\n",
    "# plot predictions and true labels\n",
    "# blue for class 0, orange for class 1\n",
    "color = ['blue' if y==0 else 'orange' for y in y_test]\n",
    "plt.scatter(range(len(pred1)), pred1, color=color)\n",
    "plt.title('Probability of class 1')"
   ]
  },
  {
   "cell_type": "markdown",
   "metadata": {},
   "source": [
    "## Batch normalization in Keras\n",
    "\n",
    "Keras has its own tool for data scaling: `BatchNormalization` layer. <br>\n",
    "It normalizes the activations of the previous layer at each batch, i.e. applies a transformation that maintains the mean activation (previous layer' output) close to 0 and the activation standard deviation close to 1. <br>\n",
    "Sergey Ioffe and Christian Szegedy show in [Batch Normalization: Accelerating Deep Network Training by Reducing Internal Covariate Shift](https://arxiv.org/abs/1502.03167) that Batch Normalization improves convergence speed  of deep neural networks.  \n",
    "\n",
    "In order to apply BatchNormalization to the `previous_layer` in Keras functional API you need two lines of code:\n",
    "\n",
    "`from keras.layers import BatchNormalization`  \n",
    "`scaled = BatchNormalization()(input1)`"
   ]
  },
  {
   "cell_type": "markdown",
   "metadata": {},
   "source": [
    "In the following cell: \n",
    "\n",
    "1. Modify function `get_model_1` into `get_model_2` in functional API and insert BatchNormalization layer after `input1`. <br>\n",
    "2. Currently `X_train`, `X_test` are scaled. In order to restore the original train and test split the data again. \n",
    "3. Run fitting 10 times and average the results. \n",
    "4. Set verbose=0 in the fit() call to remove unnecessary logging. \n",
    "5. Print loss function on every iteration.\n"
   ]
  },
  {
   "cell_type": "code",
   "execution_count": 38,
   "metadata": {},
   "outputs": [
    {
     "name": "stdout",
     "output_type": "stream",
     "text": [
      "0 0.342648298269\n",
      "1 0.294550778971\n",
      "2 0.277836729766\n",
      "3 0.21688940512\n",
      "4 0.18728014329\n",
      "5 0.204626063839\n",
      "6 0.31814886551\n",
      "7 0.178821613566\n",
      "8 0.225298511196\n",
      "9 0.423568741306\n",
      "average loss =  0.266966915083\n"
     ]
    }
   ],
   "source": [
    "import numpy as np\n",
    "from keras.layers import BatchNormalization\n",
    "def get_model_2():\n",
    "    input1 = Input(shape=(30,), name='input_1')\n",
    "    scaled = BatchNormalization()(input1)\n",
    "    hidden1 = Dense(5, activation='relu',name='hidden1')(scaled)\n",
    "    hidden2 = Dense(10, activation='relu',name='hidden2')(hidden1)\n",
    "    output = Dense(1,activation='sigmoid')(hidden2)\n",
    "    model = Model(inputs=input1, outputs=output)\n",
    "    model.compile(loss='binary_crossentropy', optimizer='adam',\n",
    "                  metrics=['accuracy'])    \n",
    "    return model\n",
    "\n",
    "n = 10\n",
    "loss = np.zeros(n)\n",
    "X_train, X_test, y_train, y_test = train_test_split(data.data,data.target,\n",
    "                                                    test_size=0.2)\n",
    "for i in np.arange(n):\n",
    "    model = get_model_2()\n",
    "    hist = model.fit(X_train, y_train, epochs=10, batch_size=32,verbose=0)\n",
    "    loss[i] = min(hist.history[\"loss\"])\n",
    "    print(i,loss[i])\n",
    "print('average loss = ',np.mean(loss))\n",
    "\n"
   ]
  },
  {
   "cell_type": "markdown",
   "metadata": {},
   "source": [
    "# Callbacks\n",
    "\n",
    "Keras has a set of functions that can be used to get a view on internal states and statistics of the model during training. They are called callbacks and `History` mentioned above is one of them.\n",
    "\n",
    "A list of callbacks can be passed (as the keyword argument `callbacks`) to the  `fit()` method of the Sequential or Model classes. The relevant methods of the callbacks will then be called at each stage of the training.  \n",
    "\n",
    "Here are some usefull callbacks that will be used below.\n",
    "\n",
    "- `CSVLogger`  \n",
    "    `keras.callbacks.CSVLogger(filename, separator=',', append=False)`  \n",
    "    Callback that streams epoch results to a csv file.  \n",
    "\n",
    "\n",
    "- `ModelCheckpoint`  \n",
    "    `keras.callbacks.ModelCheckpoint(filepath, monitor='val_loss', verbose=0, save_best_only=False, save_weights_only=False, mode='auto', period=1)`  \n",
    "    By default save the model to the file `filepath` after every epoch. If `save_best_only=True` only the latest best model is saved according to the quantity monitored. So one can restart trainning from the last saved state in case of failure. This is important when training deep learning models, which can often be a time-consuming task.  \n",
    "\n",
    "Here is an example of how we can save the model and restore it later."
   ]
  },
  {
   "cell_type": "code",
   "execution_count": 39,
   "metadata": {},
   "outputs": [
    {
     "name": "stdout",
     "output_type": "stream",
     "text": [
      "\n",
      "Epoch 00001: saving model to weights.hdf5\n",
      "\n",
      "Epoch 00002: saving model to weights.hdf5\n",
      "\n",
      "Epoch 00003: saving model to weights.hdf5\n",
      "\n",
      "Epoch 00004: saving model to weights.hdf5\n",
      "\n",
      "Epoch 00005: saving model to weights.hdf5\n",
      "\n",
      "Epoch 00006: saving model to weights.hdf5\n",
      "\n",
      "Epoch 00007: saving model to weights.hdf5\n",
      "\n",
      "Epoch 00008: saving model to weights.hdf5\n",
      "\n",
      "Epoch 00009: saving model to weights.hdf5\n",
      "\n",
      "Epoch 00010: saving model to weights.hdf5\n",
      "evaluation results of trained model\n",
      "['loss', 'acc']\n",
      "[0.38599685305043269, 0.91228070384577697]\n",
      "evaluation results of reinitialized model\n",
      "[1.6312103146000911, 0.4035087724526723]\n",
      "evaluation results of model with weights loaded from file\n",
      "[0.38599685305043269, 0.91228070384577697]\n"
     ]
    }
   ],
   "source": [
    "from keras.callbacks import ModelCheckpoint\n",
    "\n",
    "#\n",
    "scaler = StandardScaler()\n",
    "X_train = scaler.fit_transform(X_train)\n",
    "X_test = scaler.transform(X_test)\n",
    "\n",
    "# initialize model\n",
    "model = get_model_simple()\n",
    "# saves the model weights after each epoch\n",
    "checkpointer = ModelCheckpoint('weights.hdf5', verbose=1)\n",
    "model.fit(X_train, y_train, epochs=10, verbose=0, callbacks=[checkpointer])\n",
    "print('evaluation results of trained model')\n",
    "print(model.metrics_names)\n",
    "print(model.evaluate(X_test, y_test,verbose=0))\n",
    "# reinitialize model\n",
    "model = get_model_simple()\n",
    "print('evaluation results of reinitialized model')\n",
    "print(model.evaluate(X_test, y_test,verbose=0))\n",
    "model.load_weights('weights.hdf5')\n",
    "print('evaluation results of model with weights loaded from file')\n",
    "print(model.evaluate(X_test, y_test,verbose=0))"
   ]
  },
  {
   "cell_type": "markdown",
   "metadata": {},
   "source": [
    "Note that by loading weights from file we restore saved model.\n",
    "\n",
    "- `EarlyStopping`  \n",
    "    `keras.callbacks.EarlyStopping(monitor='val_loss', min_delta=0, patience=0, verbose=0, mode='auto')`  \n",
    "    Stop training when a monitored quantity has stopped improving. Using it we can set large number of epochs but the process will be stopped if validation loss is not improved during `patience` epochs.  \n",
    "\n",
    "In the example below define `EarlyStopping` callback with `patience=5` and validation loss (`val_loss`) as monitored quantity. \n",
    "\n",
    "Validation loss can be calculated only if `validation_data` parameter in the `fit` method call is defined. <br>\n",
    "In this case `validation_data=(X_test, y_test)`. <br>\n",
    "Allow 200 epochs to train the model."
   ]
  },
  {
   "cell_type": "code",
   "execution_count": 40,
   "metadata": {},
   "outputs": [
    {
     "name": "stdout",
     "output_type": "stream",
     "text": [
      "Train on 455 samples, validate on 114 samples\n",
      "Epoch 1/200\n",
      "455/455 [==============================] - 1s 2ms/step - loss: 0.5784 - acc: 0.6527 - val_loss: 0.5475 - val_acc: 0.7105\n",
      "Epoch 2/200\n",
      "455/455 [==============================] - 0s 299us/step - loss: 0.4857 - acc: 0.7495 - val_loss: 0.4758 - val_acc: 0.7456\n",
      "Epoch 3/200\n",
      "455/455 [==============================] - 0s 257us/step - loss: 0.4136 - acc: 0.8176 - val_loss: 0.4206 - val_acc: 0.7895\n",
      "Epoch 4/200\n",
      "455/455 [==============================] - 0s 292us/step - loss: 0.3599 - acc: 0.8637 - val_loss: 0.3793 - val_acc: 0.8421\n",
      "Epoch 5/200\n",
      "455/455 [==============================] - 0s 223us/step - loss: 0.3192 - acc: 0.8901 - val_loss: 0.3463 - val_acc: 0.8596\n",
      "Epoch 6/200\n",
      "455/455 [==============================] - 0s 178us/step - loss: 0.2880 - acc: 0.9165 - val_loss: 0.3187 - val_acc: 0.8860\n",
      "Epoch 7/200\n",
      "455/455 [==============================] - 0s 518us/step - loss: 0.2624 - acc: 0.9341 - val_loss: 0.2969 - val_acc: 0.8947\n",
      "Epoch 8/200\n",
      "455/455 [==============================] - 0s 345us/step - loss: 0.2423 - acc: 0.9407 - val_loss: 0.2786 - val_acc: 0.8947\n",
      "Epoch 9/200\n",
      "455/455 [==============================] - 0s 182us/step - loss: 0.2247 - acc: 0.9451 - val_loss: 0.2631 - val_acc: 0.9211\n",
      "Epoch 10/200\n",
      "455/455 [==============================] - 0s 232us/step - loss: 0.2102 - acc: 0.9473 - val_loss: 0.2489 - val_acc: 0.9298\n",
      "Epoch 11/200\n",
      "455/455 [==============================] - 0s 332us/step - loss: 0.1972 - acc: 0.9473 - val_loss: 0.2365 - val_acc: 0.9386\n",
      "Epoch 12/200\n",
      "455/455 [==============================] - 0s 264us/step - loss: 0.1861 - acc: 0.9516 - val_loss: 0.2252 - val_acc: 0.9386\n",
      "Epoch 13/200\n",
      "455/455 [==============================] - 0s 249us/step - loss: 0.1761 - acc: 0.9582 - val_loss: 0.2156 - val_acc: 0.9298\n",
      "Epoch 14/200\n",
      "455/455 [==============================] - 0s 219us/step - loss: 0.1671 - acc: 0.9604 - val_loss: 0.2060 - val_acc: 0.9474\n",
      "Epoch 15/200\n",
      "455/455 [==============================] - 0s 181us/step - loss: 0.1588 - acc: 0.9604 - val_loss: 0.1977 - val_acc: 0.9474\n",
      "Epoch 16/200\n",
      "455/455 [==============================] - 0s 250us/step - loss: 0.1516 - acc: 0.9648 - val_loss: 0.1903 - val_acc: 0.9474\n",
      "Epoch 17/200\n",
      "455/455 [==============================] - 0s 219us/step - loss: 0.1454 - acc: 0.9670 - val_loss: 0.1831 - val_acc: 0.9561\n",
      "Epoch 18/200\n",
      "455/455 [==============================] - 0s 185us/step - loss: 0.1394 - acc: 0.9692 - val_loss: 0.1767 - val_acc: 0.9649\n",
      "Epoch 19/200\n",
      "455/455 [==============================] - 0s 144us/step - loss: 0.1336 - acc: 0.9758 - val_loss: 0.1714 - val_acc: 0.9649\n",
      "Epoch 20/200\n",
      "455/455 [==============================] - 0s 135us/step - loss: 0.1284 - acc: 0.9758 - val_loss: 0.1662 - val_acc: 0.9649\n",
      "Epoch 21/200\n",
      "455/455 [==============================] - 0s 146us/step - loss: 0.1235 - acc: 0.9758 - val_loss: 0.1615 - val_acc: 0.9649\n",
      "Epoch 22/200\n",
      "455/455 [==============================] - 0s 181us/step - loss: 0.1191 - acc: 0.9758 - val_loss: 0.1574 - val_acc: 0.9649\n",
      "Epoch 23/200\n",
      "455/455 [==============================] - 0s 232us/step - loss: 0.1152 - acc: 0.9736 - val_loss: 0.1535 - val_acc: 0.9649\n",
      "Epoch 24/200\n",
      "455/455 [==============================] - 0s 214us/step - loss: 0.1114 - acc: 0.9736 - val_loss: 0.1504 - val_acc: 0.9649\n",
      "Epoch 25/200\n",
      "455/455 [==============================] - 0s 215us/step - loss: 0.1082 - acc: 0.9736 - val_loss: 0.1475 - val_acc: 0.9649\n",
      "Epoch 26/200\n",
      "455/455 [==============================] - 0s 173us/step - loss: 0.1052 - acc: 0.9736 - val_loss: 0.1447 - val_acc: 0.9649\n",
      "Epoch 27/200\n",
      "455/455 [==============================] - 0s 465us/step - loss: 0.1026 - acc: 0.9736 - val_loss: 0.1419 - val_acc: 0.9649\n",
      "Epoch 28/200\n",
      "455/455 [==============================] - 0s 340us/step - loss: 0.1001 - acc: 0.9736 - val_loss: 0.1395 - val_acc: 0.9649\n",
      "Epoch 29/200\n",
      "455/455 [==============================] - 0s 262us/step - loss: 0.0978 - acc: 0.9736 - val_loss: 0.1367 - val_acc: 0.9649\n",
      "Epoch 30/200\n",
      "455/455 [==============================] - 0s 239us/step - loss: 0.0955 - acc: 0.9758 - val_loss: 0.1345 - val_acc: 0.9649\n",
      "Epoch 31/200\n",
      "455/455 [==============================] - 0s 245us/step - loss: 0.0933 - acc: 0.9758 - val_loss: 0.1324 - val_acc: 0.9649\n",
      "Epoch 32/200\n",
      "455/455 [==============================] - 0s 129us/step - loss: 0.0911 - acc: 0.9758 - val_loss: 0.1303 - val_acc: 0.9649\n",
      "Epoch 33/200\n",
      "455/455 [==============================] - 0s 191us/step - loss: 0.0893 - acc: 0.9758 - val_loss: 0.1275 - val_acc: 0.9649\n",
      "Epoch 34/200\n",
      "455/455 [==============================] - 0s 332us/step - loss: 0.0874 - acc: 0.9758 - val_loss: 0.1255 - val_acc: 0.9649\n",
      "Epoch 35/200\n",
      "455/455 [==============================] - 0s 264us/step - loss: 0.0858 - acc: 0.9758 - val_loss: 0.1237 - val_acc: 0.9649\n",
      "Epoch 36/200\n",
      "455/455 [==============================] - 0s 239us/step - loss: 0.0841 - acc: 0.9758 - val_loss: 0.1218 - val_acc: 0.9649\n",
      "Epoch 37/200\n",
      "455/455 [==============================] - 0s 223us/step - loss: 0.0826 - acc: 0.9758 - val_loss: 0.1201 - val_acc: 0.9737\n",
      "Epoch 38/200\n",
      "455/455 [==============================] - 0s 238us/step - loss: 0.0811 - acc: 0.9758 - val_loss: 0.1188 - val_acc: 0.9737\n",
      "Epoch 39/200\n",
      "455/455 [==============================] - 0s 192us/step - loss: 0.0798 - acc: 0.9758 - val_loss: 0.1174 - val_acc: 0.9737\n",
      "Epoch 40/200\n",
      "455/455 [==============================] - 0s 140us/step - loss: 0.0785 - acc: 0.9758 - val_loss: 0.1160 - val_acc: 0.9737\n",
      "Epoch 41/200\n",
      "455/455 [==============================] - 0s 207us/step - loss: 0.0772 - acc: 0.9780 - val_loss: 0.1145 - val_acc: 0.9737\n",
      "Epoch 42/200\n",
      "455/455 [==============================] - 0s 223us/step - loss: 0.0761 - acc: 0.9780 - val_loss: 0.1133 - val_acc: 0.9737\n",
      "Epoch 43/200\n",
      "455/455 [==============================] - 0s 252us/step - loss: 0.0749 - acc: 0.9802 - val_loss: 0.1122 - val_acc: 0.9737\n",
      "Epoch 44/200\n",
      "455/455 [==============================] - 0s 153us/step - loss: 0.0738 - acc: 0.9824 - val_loss: 0.1110 - val_acc: 0.9737\n",
      "Epoch 45/200\n",
      "455/455 [==============================] - 0s 164us/step - loss: 0.0729 - acc: 0.9824 - val_loss: 0.1102 - val_acc: 0.9737\n",
      "Epoch 46/200\n",
      "455/455 [==============================] - 0s 151us/step - loss: 0.0719 - acc: 0.9824 - val_loss: 0.1092 - val_acc: 0.9737\n",
      "Epoch 47/200\n",
      "455/455 [==============================] - 0s 423us/step - loss: 0.0711 - acc: 0.9824 - val_loss: 0.1084 - val_acc: 0.9737\n",
      "Epoch 48/200\n",
      "455/455 [==============================] - 0s 242us/step - loss: 0.0703 - acc: 0.9824 - val_loss: 0.1078 - val_acc: 0.9737\n",
      "Epoch 49/200\n",
      "455/455 [==============================] - 0s 233us/step - loss: 0.0694 - acc: 0.9824 - val_loss: 0.1071 - val_acc: 0.9737\n",
      "Epoch 50/200\n",
      "455/455 [==============================] - 0s 349us/step - loss: 0.0687 - acc: 0.9824 - val_loss: 0.1060 - val_acc: 0.9825\n",
      "Epoch 51/200\n",
      "455/455 [==============================] - 0s 340us/step - loss: 0.0680 - acc: 0.9824 - val_loss: 0.1057 - val_acc: 0.9825\n",
      "Epoch 52/200\n",
      "455/455 [==============================] - 0s 188us/step - loss: 0.0672 - acc: 0.9824 - val_loss: 0.1049 - val_acc: 0.9825\n",
      "Epoch 53/200\n",
      "455/455 [==============================] - 0s 166us/step - loss: 0.0665 - acc: 0.9824 - val_loss: 0.1040 - val_acc: 0.9825\n",
      "Epoch 54/200\n",
      "455/455 [==============================] - 0s 162us/step - loss: 0.0658 - acc: 0.9824 - val_loss: 0.1034 - val_acc: 0.9825\n",
      "Epoch 55/200\n",
      "455/455 [==============================] - 0s 149us/step - loss: 0.0652 - acc: 0.9824 - val_loss: 0.1025 - val_acc: 0.9825\n",
      "Epoch 56/200\n",
      "455/455 [==============================] - 0s 237us/step - loss: 0.0645 - acc: 0.9824 - val_loss: 0.1016 - val_acc: 0.9825\n",
      "Epoch 57/200\n",
      "455/455 [==============================] - 0s 261us/step - loss: 0.0640 - acc: 0.9824 - val_loss: 0.1009 - val_acc: 0.9825\n",
      "Epoch 58/200\n",
      "455/455 [==============================] - 0s 201us/step - loss: 0.0633 - acc: 0.9824 - val_loss: 0.1004 - val_acc: 0.9825\n",
      "Epoch 59/200\n",
      "455/455 [==============================] - 0s 138us/step - loss: 0.0628 - acc: 0.9824 - val_loss: 0.1000 - val_acc: 0.9825\n",
      "Epoch 60/200\n",
      "455/455 [==============================] - 0s 202us/step - loss: 0.0623 - acc: 0.9824 - val_loss: 0.0996 - val_acc: 0.9825\n"
     ]
    },
    {
     "name": "stdout",
     "output_type": "stream",
     "text": [
      "Epoch 61/200\n",
      "455/455 [==============================] - 0s 198us/step - loss: 0.0618 - acc: 0.9824 - val_loss: 0.0993 - val_acc: 0.9825\n",
      "Epoch 62/200\n",
      "455/455 [==============================] - 0s 127us/step - loss: 0.0613 - acc: 0.9824 - val_loss: 0.0992 - val_acc: 0.9825\n",
      "Epoch 63/200\n",
      "455/455 [==============================] - 0s 154us/step - loss: 0.0608 - acc: 0.9846 - val_loss: 0.0990 - val_acc: 0.9825\n",
      "Epoch 64/200\n",
      "455/455 [==============================] - 0s 189us/step - loss: 0.0601 - acc: 0.9846 - val_loss: 0.0987 - val_acc: 0.9825\n",
      "Epoch 65/200\n",
      "455/455 [==============================] - 0s 119us/step - loss: 0.0594 - acc: 0.9846 - val_loss: 0.0985 - val_acc: 0.9825\n",
      "Epoch 66/200\n",
      "455/455 [==============================] - 0s 260us/step - loss: 0.0588 - acc: 0.9846 - val_loss: 0.0982 - val_acc: 0.9825\n",
      "Epoch 67/200\n",
      "455/455 [==============================] - 0s 216us/step - loss: 0.0581 - acc: 0.9846 - val_loss: 0.0982 - val_acc: 0.9825\n",
      "Epoch 68/200\n",
      "455/455 [==============================] - 0s 143us/step - loss: 0.0576 - acc: 0.9846 - val_loss: 0.0984 - val_acc: 0.9825\n",
      "Epoch 69/200\n",
      "455/455 [==============================] - 0s 148us/step - loss: 0.0570 - acc: 0.9868 - val_loss: 0.0983 - val_acc: 0.9825\n",
      "Epoch 70/200\n",
      "455/455 [==============================] - 0s 423us/step - loss: 0.0565 - acc: 0.9868 - val_loss: 0.0980 - val_acc: 0.9825\n",
      "Epoch 71/200\n",
      "455/455 [==============================] - 0s 117us/step - loss: 0.0560 - acc: 0.9868 - val_loss: 0.0978 - val_acc: 0.9825\n",
      "Epoch 72/200\n",
      "455/455 [==============================] - 0s 141us/step - loss: 0.0555 - acc: 0.9868 - val_loss: 0.0976 - val_acc: 0.9825\n",
      "Epoch 73/200\n",
      "455/455 [==============================] - 0s 144us/step - loss: 0.0550 - acc: 0.9868 - val_loss: 0.0974 - val_acc: 0.9825\n",
      "Epoch 74/200\n",
      "455/455 [==============================] - 0s 180us/step - loss: 0.0545 - acc: 0.9868 - val_loss: 0.0971 - val_acc: 0.9825\n",
      "Epoch 75/200\n",
      "455/455 [==============================] - 0s 180us/step - loss: 0.0541 - acc: 0.9868 - val_loss: 0.0967 - val_acc: 0.9825\n",
      "Epoch 76/200\n",
      "455/455 [==============================] - 0s 282us/step - loss: 0.0536 - acc: 0.9868 - val_loss: 0.0968 - val_acc: 0.9825\n",
      "Epoch 77/200\n",
      "455/455 [==============================] - 0s 199us/step - loss: 0.0532 - acc: 0.9868 - val_loss: 0.0964 - val_acc: 0.9825\n",
      "Epoch 78/200\n",
      "455/455 [==============================] - 0s 175us/step - loss: 0.0527 - acc: 0.9868 - val_loss: 0.0962 - val_acc: 0.9825\n",
      "Epoch 79/200\n",
      "455/455 [==============================] - 0s 145us/step - loss: 0.0522 - acc: 0.9868 - val_loss: 0.0957 - val_acc: 0.9825\n",
      "Epoch 80/200\n",
      "455/455 [==============================] - 0s 198us/step - loss: 0.0519 - acc: 0.9868 - val_loss: 0.0953 - val_acc: 0.9825\n",
      "Epoch 81/200\n",
      "455/455 [==============================] - 0s 289us/step - loss: 0.0514 - acc: 0.9868 - val_loss: 0.0953 - val_acc: 0.9825\n",
      "Epoch 82/200\n",
      "455/455 [==============================] - 0s 230us/step - loss: 0.0510 - acc: 0.9868 - val_loss: 0.0950 - val_acc: 0.9825\n",
      "Epoch 83/200\n",
      "455/455 [==============================] - 0s 191us/step - loss: 0.0506 - acc: 0.9868 - val_loss: 0.0947 - val_acc: 0.9825\n",
      "Epoch 84/200\n",
      "455/455 [==============================] - 0s 176us/step - loss: 0.0502 - acc: 0.9868 - val_loss: 0.0943 - val_acc: 0.9825\n",
      "Epoch 85/200\n",
      "455/455 [==============================] - 0s 132us/step - loss: 0.0498 - acc: 0.9868 - val_loss: 0.0941 - val_acc: 0.9825\n",
      "Epoch 86/200\n",
      "455/455 [==============================] - 0s 148us/step - loss: 0.0494 - acc: 0.9868 - val_loss: 0.0940 - val_acc: 0.9825\n",
      "Epoch 87/200\n",
      "455/455 [==============================] - 0s 232us/step - loss: 0.0491 - acc: 0.9868 - val_loss: 0.0937 - val_acc: 0.9825\n",
      "Epoch 88/200\n",
      "455/455 [==============================] - 0s 372us/step - loss: 0.0487 - acc: 0.9868 - val_loss: 0.0938 - val_acc: 0.9825\n",
      "Epoch 89/200\n",
      "455/455 [==============================] - 0s 183us/step - loss: 0.0483 - acc: 0.9868 - val_loss: 0.0936 - val_acc: 0.9825\n",
      "Epoch 90/200\n",
      "455/455 [==============================] - 0s 200us/step - loss: 0.0480 - acc: 0.9868 - val_loss: 0.0936 - val_acc: 0.9825\n",
      "Epoch 91/200\n",
      "455/455 [==============================] - 0s 121us/step - loss: 0.0476 - acc: 0.9868 - val_loss: 0.0934 - val_acc: 0.9825\n",
      "Epoch 92/200\n",
      "455/455 [==============================] - 0s 117us/step - loss: 0.0472 - acc: 0.9868 - val_loss: 0.0927 - val_acc: 0.9825\n",
      "Epoch 93/200\n",
      "455/455 [==============================] - 0s 138us/step - loss: 0.0468 - acc: 0.9868 - val_loss: 0.0918 - val_acc: 0.9825\n",
      "Epoch 94/200\n",
      "455/455 [==============================] - 0s 212us/step - loss: 0.0464 - acc: 0.9868 - val_loss: 0.0916 - val_acc: 0.9825\n",
      "Epoch 95/200\n",
      "455/455 [==============================] - 0s 311us/step - loss: 0.0460 - acc: 0.9868 - val_loss: 0.0915 - val_acc: 0.9825\n",
      "Epoch 96/200\n",
      "455/455 [==============================] - 0s 203us/step - loss: 0.0457 - acc: 0.9868 - val_loss: 0.0909 - val_acc: 0.9825\n",
      "Epoch 97/200\n",
      "455/455 [==============================] - 0s 268us/step - loss: 0.0453 - acc: 0.9868 - val_loss: 0.0903 - val_acc: 0.9825\n",
      "Epoch 98/200\n",
      "455/455 [==============================] - 0s 222us/step - loss: 0.0449 - acc: 0.9868 - val_loss: 0.0901 - val_acc: 0.9825\n",
      "Epoch 99/200\n",
      "455/455 [==============================] - 0s 221us/step - loss: 0.0446 - acc: 0.9868 - val_loss: 0.0896 - val_acc: 0.9825\n",
      "Epoch 100/200\n",
      "455/455 [==============================] - 0s 221us/step - loss: 0.0442 - acc: 0.9868 - val_loss: 0.0883 - val_acc: 0.9825\n",
      "Epoch 101/200\n",
      "455/455 [==============================] - 0s 210us/step - loss: 0.0439 - acc: 0.9868 - val_loss: 0.0880 - val_acc: 0.9825\n",
      "Epoch 102/200\n",
      "455/455 [==============================] - 0s 102us/step - loss: 0.0435 - acc: 0.9868 - val_loss: 0.0884 - val_acc: 0.9825\n",
      "Epoch 103/200\n",
      "455/455 [==============================] - 0s 96us/step - loss: 0.0432 - acc: 0.9868 - val_loss: 0.0887 - val_acc: 0.9825\n",
      "Epoch 104/200\n",
      "455/455 [==============================] - 0s 219us/step - loss: 0.0429 - acc: 0.9868 - val_loss: 0.0889 - val_acc: 0.9825\n",
      "Epoch 105/200\n",
      "455/455 [==============================] - 0s 177us/step - loss: 0.0427 - acc: 0.9868 - val_loss: 0.0889 - val_acc: 0.9825\n",
      "Epoch 106/200\n",
      "455/455 [==============================] - 0s 113us/step - loss: 0.0424 - acc: 0.9868 - val_loss: 0.0883 - val_acc: 0.9825\n"
     ]
    },
    {
     "data": {
      "text/plain": [
       "<keras.callbacks.History at 0x7f584b526898>"
      ]
     },
     "execution_count": 40,
     "metadata": {},
     "output_type": "execute_result"
    }
   ],
   "source": [
    "from keras.callbacks import EarlyStopping\n",
    "X_train, X_test, y_train, y_test = train_test_split(scaler.transform(data.data), data.target,\n",
    "                                                    test_size=0.2, random_state=1)\n",
    "# initialize model\n",
    "model = get_model_simple()\n",
    "early_stopping = EarlyStopping(monitor=\"val_loss\", patience=5)\n",
    "model.fit(X_train, y_train, validation_data=(X_test, y_test), epochs=200,\n",
    "          callbacks=[early_stopping], verbose=1)\n"
   ]
  },
  {
   "cell_type": "markdown",
   "metadata": {},
   "source": [
    "EarlyStopping callback terminated process earlier, but the model now is not the best one (according to `val_loss` criterion). The best model was achieved (`patience`+1) epochs before the end.  "
   ]
  },
  {
   "cell_type": "markdown",
   "metadata": {},
   "source": [
    "# Regularization\n",
    "\n",
    "One of the major issues with artificial neural networks is that the models are quite complicated. For example, let us consider a neural network that is pulling data from an image from the MNIST database (28 by 28 pixels), feeds into two hidden layers with 30 neurons, and finally reaches a soft-max layer of 10 neurons. The total number of parameters in the network is nearly 25,000. Aparently the model with so many parameters is prone to overfititng.\n",
    "\n",
    "Keras has a number of layers that can help prevent overfitting.  \n",
    "\n",
    "### Dropout\n",
    "\n",
    "Dropout is a regularization technique for neural network models proposed by Srivastava, et al. in their 2014 paper [Dropout: A Simple Way to Prevent Neural Networks from Overfitting](http://jmlr.org/papers/volume15/srivastava14a/srivastava14a.pdf).\n",
    "\n",
    "Dropout is a technique where randomly selected neurons are ignored during training. <br>\n",
    "They are “dropped-out” randomly. This means that their contribution to the activation of downstream neurons is temporally removed on the forward pass and any weight updates are not applied to the neuron on the backward pass.\n",
    "\n",
    "Dropout layer can be created as follows"
   ]
  },
  {
   "cell_type": "code",
   "execution_count": 41,
   "metadata": {
    "scrolled": true
   },
   "outputs": [],
   "source": [
    "from keras.layers import Dropout\n",
    "dropout_layer = Dropout(rate=0.1)"
   ]
  },
  {
   "cell_type": "markdown",
   "metadata": {},
   "source": [
    "where `rate` is float number between 0 and 1 meaning fraction of the input units to drop.\n",
    "\n",
    "Keras provides a number of Noise layers that are also useful to mitigate overfitting.  \n",
    "\n",
    "### GaussianNoise\n",
    "\n",
    "Layer `GaussianNoise(stddev)` applies additive zero-centered Gaussian noise with standard deviation `stdev`. <br>\n",
    "It could be treated as a form of random data augmentation. Since it is a regularization layer, it is only active at training time.\n",
    "\n",
    "### GaussianDropout\n",
    "\n",
    "Layer `GaussianDropout(rate)` applies multiplicative 1-centered Gaussian noise with standard deviation \n",
    "$$\\sqrt{\\frac{rate} { (1 - rate)}}.$$ \n",
    "It is only active at training time.\n",
    "\n",
    "The way of choosing appropriate dropout rate and some other parameters will be shown in TuningNetworks notebook."
   ]
  }
 ],
 "metadata": {
  "anaconda-cloud": {},
  "kernelspec": {
   "display_name": "Python 3",
   "language": "python",
   "name": "python3"
  },
  "language_info": {
   "codemirror_mode": {
    "name": "ipython",
    "version": 3
   },
   "file_extension": ".py",
   "mimetype": "text/x-python",
   "name": "python",
   "nbconvert_exporter": "python",
   "pygments_lexer": "ipython3",
   "version": "3.7.2"
  }
 },
 "nbformat": 4,
 "nbformat_minor": 1
}
