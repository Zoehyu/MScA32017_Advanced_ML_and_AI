{
 "cells": [
  {
   "cell_type": "markdown",
   "metadata": {},
   "source": [
    "# iLykei Lecture Series\n",
    "\n",
    "# Advanced Machine Learning and Artificial Intelligence (MScA 32017)\n",
    "\n",
    "# Reinforcement Learning\n",
    "\n",
    "## Notebook 7: Car Rental Example\n",
    "\n",
    "## Yuri Balasanov, Leonid Nazarov, &copy; iLykei 2019\n",
    "\n",
    "##### Main texts: \n",
    "\n",
    "Hands-On Machine Learning with Scikit-Learn and TensorFlow, Aurelien Geron, &copy; Aurelien Geron 2017, O'Reilly Media, Inc\n",
    "\n",
    "Reinforcement Learning: An Introduction (Adaptive Computation and Machine Learning series), &copy; 2018 Richard S. Sutton, Andrew G. Barto, The MIT Press\n",
    "\n",
    "This notebook discusses example 4.2 from Chapter 4 of the book by Sutton, Barto. \n",
    "\n",
    "## Jack's Car Rental\n",
    "\n",
    "\"Jack manages two locations for a nationwide car rental company.\n",
    "Each day, some number of customers arrive at each location to rent cars. If Jack has a car available, he\n",
    "rents it out and is credited $\\$10$ by the national company. If he is out of cars at that location, then the\n",
    "business is lost. Cars become available for renting the day after they are returned. To help ensure that\n",
    "cars are available where they are needed, Jack can move them between the two locations overnight, at\n",
    "a cost of $\\$2$ per car moved.\"\n",
    "\n",
    "**Assumptions**:\n",
    "\n",
    "- Number of car rental requests is a Poisson random variable. Intensities of requests are: $\\mu=3$ for locaton 1 and $\\mu=4$ for location 2\n",
    "- Number of cars returned to each location is also Poisson. Intensities are: $\\mu=3$ for location 1 and $\\mu=2$ for location 2\n",
    "- Garages in both locations can park not more than 20 cars. Any car that does not fit will be returned to the nationwide company and disappear\n",
    "- Maximum of 5 cars can be moved from one location to another in one night\n",
    "- Discount rate is $\\gamma=0.9$\n",
    "\n",
    "State is the number of cars in each location at the end of the day $(n_1,n_2)$.\n",
    "Action is the net number of cars moved between locations overnight.\n",
    "\n",
    "## Solution by DP\n",
    "\n",
    "In this section we use the [code](https://github.com/zy31415/jackscarrental) of Yang Zhang, modified for educational purposes."
   ]
  },
  {
   "cell_type": "code",
   "execution_count": 43,
   "metadata": {},
   "outputs": [],
   "source": [
    "%matplotlib inline\n",
    "import numpy as np \n",
    "from scipy.stats import poisson\n",
    "\n",
    "import matplotlib.pyplot as plt"
   ]
  },
  {
   "cell_type": "markdown",
   "metadata": {},
   "source": [
    "The class bellow is designed for calculating Poisson probability mass function\n",
    "$$poisson.pmf(k,\\mu)=exp(-\\mu)\\frac{\\mu^k}{k!}$$\n",
    "and survival function (equal to 1 - cdf)\n",
    "$$poisson.sf(k,\\mu)=1 - \\sum_{i=0}^{k}exp(-\\mu)\\frac{\\mu^i}{i!}.$$\n",
    "Once the above probabilities are calculated with parameter $\\mu$, they are kept in the cache dictionary with the key $\\mu$. The dictionary keeps only the first 25 probabilities since \n",
    "$$1-poisson.sf(4,25) \\approx 2.67e-07 $$ and $\\mu = 4$ is the maximal value we use in the example.\n",
    "Caching results of `scipy.stats.poisson` significantly accelerates the search of optimal policy."
   ]
  },
  {
   "cell_type": "code",
   "execution_count": 44,
   "metadata": {},
   "outputs": [],
   "source": [
    "class Poisson(object):\n",
    "    cache_pmf = {}\n",
    "    cache_sf = {}\n",
    "    cache = {}\n",
    "    MAX_CUTOFF = 25\n",
    "\n",
    "    @classmethod\n",
    "    def pmf_series(cls, mu, cutoff):\n",
    "        assert isinstance(mu, int), \"mu should be an integer.\"\n",
    "        assert isinstance(cutoff, int), \"cutoff should be an integer\"\n",
    "\n",
    "        if (mu, cutoff) not in cls.cache:\n",
    "            cls._calculate_pmf_series(mu, cutoff)\n",
    "\n",
    "        return cls.cache[(mu, cutoff)]\n",
    "\n",
    "    @classmethod\n",
    "    def _calculate_pmf_series(cls, mu, cutoff):\n",
    "\n",
    "        if mu not in cls.cache_pmf:\n",
    "            print(\"Calculate poisson probabilities ...\")\n",
    "            cls.cache_pmf[mu] = poisson.pmf(np.arange(cls.MAX_CUTOFF + 1), mu)\n",
    "            cls.cache_sf[mu] = poisson.sf(np.arange(cls.MAX_CUTOFF + 1), mu)\n",
    "\n",
    "        out = np.copy(cls.cache_pmf[mu][:cutoff+1])\n",
    "        out[-1] += cls.cache_sf[mu][cutoff]\n",
    "\n",
    "        cls.cache[(mu, cutoff)] = out"
   ]
  },
  {
   "cell_type": "markdown",
   "metadata": {},
   "source": [
    "Set the environment parameters."
   ]
  },
  {
   "cell_type": "code",
   "execution_count": 45,
   "metadata": {},
   "outputs": [],
   "source": [
    "capacity = 20  # maximal number of cars at each location\n",
    "rental_reward = 10.  # reward for rent a car\n",
    "moving_cost = 2.  # cost for moving car to another location overnight\n",
    "# maximal number of cars that can be moved to another location in one night\n",
    "max_moving = 5\n",
    "\n",
    "# bad_action_cost should always be non-negative.\n",
    "# when bad_action_cost == 0, bad action is not punished, \n",
    "bad_action_cost = 100.\n",
    "\n",
    "request_mean_G1 = 3 # mean of rental requests at the first location\n",
    "request_mean_G2 = 4 # mean of rental requests at the second location\n",
    "return_mean_G1 = 3  # mean number of returns at the first location\n",
    "return_mean_G2 = 2  # mean number of returns at the second location\n",
    "\n",
    "discount_factor = 0.9\n",
    "\n",
    "PolicyEvaluationError = 0.01"
   ]
  },
  {
   "cell_type": "markdown",
   "metadata": {},
   "source": [
    "Function `rental_reward_given_cars` calculates the average rental reward with $s$ available cars; `expected_rental_reward` is the vectorized version of it."
   ]
  },
  {
   "cell_type": "code",
   "execution_count": 46,
   "metadata": {},
   "outputs": [],
   "source": [
    "def rental_reward_given_cars(s, mu):\n",
    "    rewards = rental_reward * np.arange(s + 1)\n",
    "    p = Poisson.pmf_series(mu, cutoff=s)\n",
    "    return rewards.dot(p)\n",
    "\n",
    "def expected_rental_reward(expected_request):\n",
    "    return np.asarray([rental_reward_given_cars(s, expected_request)\n",
    "                       for s in range(capacity + 1)])"
   ]
  },
  {
   "cell_type": "markdown",
   "metadata": {},
   "source": [
    "The following function calculates transition probabilities used by function `bellman`."
   ]
  },
  {
   "cell_type": "code",
   "execution_count": 47,
   "metadata": {},
   "outputs": [],
   "source": [
    "def transition_probabilty(s, req, ret, action=0):\n",
    "    '''    \n",
    "    :param s: Current State\n",
    "    :param req: Mean value of requests\n",
    "    :param ret: Mean value of returns\n",
    "    :param action: Action. Positive means move in. Negative means move out.\n",
    "    :return: Transition probability.\n",
    "    '''\n",
    "\n",
    "    _ret_sz = max_moving + capacity\n",
    "\n",
    "    p_req = Poisson.pmf_series(req, s)\n",
    "    p_ret = Poisson.pmf_series(ret, _ret_sz)\n",
    "    p = np.outer(p_req, p_ret)\n",
    "\n",
    "    transp = np.asarray([p.trace(offset) \n",
    "                         for offset in range(-s, _ret_sz + 1)])\n",
    "\n",
    "    assert abs(action) <= max_moving, \"action can be large than %s.\" % max_moving\n",
    "\n",
    "    # No cars are being moved\n",
    "    if action == 0:\n",
    "        transp[capacity] += sum(transp[capacity+1:])\n",
    "        return transp[:capacity+1]\n",
    "\n",
    "    # Move cars from Garage 1 to Garage 2\n",
    "    if action > 0:\n",
    "        transp[capacity-action] += sum(transp[capacity-action+1:])\n",
    "        transp[capacity-action+1:] = 0\n",
    "\n",
    "        return np.roll(transp, shift=action)[:capacity+1]\n",
    "\n",
    "    # Move cars from Garage 2 to Garage 1\n",
    "    action = -action\n",
    "    transp[action] += sum(transp[:action])\n",
    "    transp[:action] = 0\n",
    "\n",
    "    transp[action+capacity] += sum(transp[action+capacity+1:])\n",
    "    transp[action+capacity+1:] = 0\n",
    "\n",
    "    return np.roll(transp, shift=-action)[:capacity+1]\n"
   ]
  },
  {
   "cell_type": "markdown",
   "metadata": {},
   "source": [
    "Calculate value of state `(s1,s2)` with action `action`."
   ]
  },
  {
   "cell_type": "code",
   "execution_count": 48,
   "metadata": {},
   "outputs": [],
   "source": [
    "def bellman(action, s1, s2):\n",
    "    transp1 = transition_probabilty(s1, request_mean_G1, return_mean_G1,\n",
    "                                    -action)\n",
    "    transp2 = transition_probabilty(s2, request_mean_G2, return_mean_G2,\n",
    "                                    action)\n",
    "    transp = np.outer(transp1, transp2)\n",
    "\n",
    "    return reward1[s1] + reward2[s2] - expected_moving_cost(s1, s2, action) + \\\n",
    "           discount_factor * sum((transp * value).flat)"
   ]
  },
  {
   "cell_type": "markdown",
   "metadata": {},
   "source": [
    "Policy evaluation. Function calculates new values for all states and compares them with the old ones. Early stopping in case of all absolute differences are less than `PolicyEvaluationError`."
   ]
  },
  {
   "cell_type": "code",
   "execution_count": 49,
   "metadata": {},
   "outputs": [],
   "source": [
    "def policy_evaluation():\n",
    "    global value\n",
    "    ''' Keep policy fixed and update value. '''\n",
    "    while True:\n",
    "        diff = 0.\n",
    "        # Efficient multi-dimensional iterator object\n",
    "        it = np.nditer([policy], flags=['multi_index'])\n",
    "\n",
    "        while not it.finished:\n",
    "            action = it[0]\n",
    "            s1, s2 = it.multi_index\n",
    "            temp = value[s1, s2]\n",
    "            value[s1, s2] = bellman(action=action, s1=s1, s2=s2)\n",
    "            diff = max(diff, abs(value[s1, s2] - temp))\n",
    "            it.iternext()\n",
    "\n",
    "        print(np.round(diff,3),end=' ')\n",
    "        if diff < PolicyEvaluationError:\n",
    "            break"
   ]
  },
  {
   "cell_type": "markdown",
   "metadata": {},
   "source": [
    "Update policy according to the new values obtained by *policy_evaluation* fuction. Return *True* if policy is changed."
   ]
  },
  {
   "cell_type": "code",
   "execution_count": 50,
   "metadata": {},
   "outputs": [],
   "source": [
    "def policy_update():\n",
    "    is_policy_changed = False\n",
    "\n",
    "    it = np.nditer(policy, flags=['multi_index'])\n",
    "    while not it.finished:\n",
    "        s1, s2 = it.multi_index\n",
    "\n",
    "        _max_val = -1\n",
    "        _pol = None\n",
    "        # find avalable action providing maximal value\n",
    "        for act in range(-max_moving, max_moving + 1):\n",
    "            _val = bellman(action=act, s1=s1, s2=s2)\n",
    "            if _val > _max_val:\n",
    "                _max_val = _val\n",
    "                _pol = act\n",
    "\n",
    "        if policy[s1, s2] != _pol:\n",
    "            is_policy_changed = True\n",
    "            policy[s1, s2] = _pol\n",
    "\n",
    "        it.iternext()\n",
    "    return is_policy_changed\n"
   ]
  },
  {
   "cell_type": "markdown",
   "metadata": {},
   "source": [
    "We used numpy nditer itereator in the above function. It is efficient multi-dimensional iterator object to iterate over arrays. Here is an easy example illustrating how it works."
   ]
  },
  {
   "cell_type": "code",
   "execution_count": 51,
   "metadata": {},
   "outputs": [
    {
     "name": "stdout",
     "output_type": "stream",
     "text": [
      "0 0 0\n",
      "0 1 1\n",
      "1 0 2\n",
      "1 1 3\n",
      "2 0 4\n",
      "2 1 5\n"
     ]
    }
   ],
   "source": [
    "p = np.arange(6).reshape((3,2))\n",
    "\n",
    "it = np.nditer(p, flags=['multi_index'])\n",
    "\n",
    "while not it.finished:\n",
    "    s1, s2 = it.multi_index\n",
    "    print(s1, s2,it[0])\n",
    "    it.iternext()"
   ]
  },
  {
   "cell_type": "markdown",
   "metadata": {},
   "source": [
    "The following two functions are used to calculate expected moving cost."
   ]
  },
  {
   "cell_type": "code",
   "execution_count": 52,
   "metadata": {},
   "outputs": [],
   "source": [
    "def expected_moving_cost(s1, s2, action):\n",
    "    if action == 0:\n",
    "        return 0.\n",
    "\n",
    "    # moving from state s1 into state s2\n",
    "    if action > 0:\n",
    "        p = transition_probabilty(s1, request_mean_G1, return_mean_G1)\n",
    "        cost = gen_move_cost_array(action)\n",
    "        return cost.dot(p)\n",
    "\n",
    "    # moving from state s2 into state s1\n",
    "    p = transition_probabilty(s2, request_mean_G2, return_mean_G2)\n",
    "    cost = gen_move_cost_array(action)\n",
    "    return cost.dot(p)\n",
    "\n",
    "def gen_move_cost_array(action):\n",
    "    '''\n",
    "    Generate an array based on which costs of move is calculated.\n",
    "\n",
    "    If action > available cars, then this action is considered as a bad action.\n",
    "\n",
    "    when bad_move_cost == 0, bad action is not punished. The system will move max possible cars.\n",
    "\n",
    "    When bad_move_cost >0, bad action is punished indicated by this variable.\n",
    "\n",
    "    :param action: Number of cars that will be moved from Garage 1 to Garage 2.\n",
    "    :return: \n",
    "    '''\n",
    "    _action = abs(action)\n",
    "\n",
    "    # Don't punish bad action:\n",
    "    if bad_action_cost == 0:\n",
    "        cost = np.asarray(\n",
    "            [ii if ii < _action else _action for ii in range(capacity+1)]\n",
    "        ) * moving_cost\n",
    "\n",
    "    # bad action is punished\n",
    "    else:\n",
    "        cost = np.asarray(\n",
    "            [bad_action_cost if ii < _action else _action for ii in range(capacity + 1)]\n",
    "        ) * moving_cost\n",
    "    return cost"
   ]
  },
  {
   "cell_type": "markdown",
   "metadata": {},
   "source": [
    "Let the state be the number of cars at each location. Action **a** is the number of cars to be moved from Garage 1 to Garage 2 (if **a**<0 we move **-a** cars from Garage 2 to Garage 1). Initiate all state values and policy to zero."
   ]
  },
  {
   "cell_type": "code",
   "execution_count": 53,
   "metadata": {},
   "outputs": [],
   "source": [
    "value = np.zeros((capacity + 1,capacity + 1))\n",
    "policy = np.zeros_like(value, int)"
   ]
  },
  {
   "cell_type": "markdown",
   "metadata": {},
   "source": [
    "Get expected rental reward."
   ]
  },
  {
   "cell_type": "code",
   "execution_count": 54,
   "metadata": {},
   "outputs": [
    {
     "name": "stdout",
     "output_type": "stream",
     "text": [
      "Calculate poisson probabilities ...\n",
      "Calculate poisson probabilities ...\n"
     ]
    }
   ],
   "source": [
    "reward1 = expected_rental_reward(request_mean_G1)\n",
    "reward2 = expected_rental_reward(request_mean_G2)"
   ]
  },
  {
   "cell_type": "markdown",
   "metadata": {},
   "source": [
    "Run value iteration algorithm."
   ]
  },
  {
   "cell_type": "code",
   "execution_count": 55,
   "metadata": {},
   "outputs": [
    {
     "name": "stdout",
     "output_type": "stream",
     "text": [
      "iteration 0: policy_evaluation\n",
      "Calculate poisson probabilities ...\n",
      "193.349 134.004 90.452 67.598 53.585 41.721 32.72 26.088 21.778 18.318 15.367 12.861 10.739 8.949 7.443 6.18 5.124 4.243 3.509 2.899 2.393 1.974 1.627 1.34 1.104 0.908 0.747 0.615 0.505 0.415 0.341 0.281 0.23 0.189 0.155 0.128 0.105 0.086 0.071 0.058 0.048 0.039 0.032 0.026 0.022 0.018 0.015 0.012 0.01 \n",
      "policy_update\n",
      "iteration 1: policy_evaluation\n",
      "46.655 3.193 1.618 1.177 0.978 0.856 0.715 0.589 0.484 0.397 0.325 0.267 0.219 0.179 0.147 0.12 0.099 0.081 0.066 0.054 0.045 0.037 0.03 0.025 0.02 0.016 0.014 0.011 0.009 \n",
      "policy_update\n",
      "iteration 2: policy_evaluation\n",
      "4.675 2.713 1.72 1.099 0.692 0.436 0.281 0.193 0.146 0.111 0.086 0.069 0.057 0.047 0.038 0.031 0.026 0.021 0.017 0.014 0.012 0.009 \n",
      "policy_update\n",
      "iteration 3: policy_evaluation\n",
      "0.397 0.143 0.078 0.05 0.031 0.019 0.012 0.007 \n",
      "policy_update\n",
      "[[ 0  0  0  0  0  0  0  0  0  0  0  0  0  0  0  0  0 -1 -1 -1 -2]\n",
      " [ 0  0  0  0  0  0  0  0  0  0  0  0  0  0  0  0  0 -1 -1 -1 -1]\n",
      " [ 0  0  0  0  0  0  0  0  0  0  0  0  0  0  0  0  0  0 -1 -1 -1]\n",
      " [ 0  0  0  0  0  0  0  0  0  0  0  0  0  0  0  0  0  0  0 -1 -1]\n",
      " [ 0  0  0  0  0  0  0  0  0  0  0  0  0  0  0  0  0  0  0  0 -1]\n",
      " [ 0  0  0  0  0  0  0  0  0  0  0  0  0  0  0  0  0  0  0  0  0]\n",
      " [ 0  0  0  0  0  0  0  0  0  0  0  0  0  0  0  0  0  0  0  0  0]\n",
      " [ 1  1  1  1  1  0  0  0  0  0  0  0  0  0  0  0  0  0  0  0  0]\n",
      " [ 1  1  1  1  1  1  1  0  0  0  0  0  0  0  0  0  0  0  0  0  0]\n",
      " [ 2  2  2  2  2  2  1  1  0  0  0  0  0  0  0  0  0  0  0  0  0]\n",
      " [ 3  3  3  3  2  2  2  1  1  0  0  0  0  0  0  0  0  0  0  0  0]\n",
      " [ 3  3  3  3  3  3  2  2  1  0  0  0  0  0  0  0  0  0  0  0  0]\n",
      " [ 4  4  4  4  3  3  3  2  1  1  0  0  0  0  0  0  0  0  0  0  0]\n",
      " [ 4  4  4  4  4  3  3  2  2  1  0  0  0  0  0  0  0  0  0  0  0]\n",
      " [ 5  4  4  4  4  4  3  3  2  1  0  0  0  0  0  0  0  0  0  0  0]\n",
      " [ 5  5  5  5  4  4  3  3  2  1  1  0  0  0  0  0  0  0  0  0  0]\n",
      " [ 5  5  5  5  5  4  4  3  2  2  1  0  0  0  0  0  0  0  0  0  0]\n",
      " [ 5  5  5  5  5  4  4  3  3  2  1  1  0  0  0  0  0  0  0  0  0]\n",
      " [ 5  5  5  5  5  4  4  3  3  2  2  1  1  1  0  0  0  0  0  0  0]\n",
      " [ 5  5  5  5  5  5  4  4  3  3  2  2  2  1  1  1  1  0  0  0  0]\n",
      " [ 5  5  5  5  5  5  5  4  4  3  3  3  2  2  2  2  1  1  0  0  0]]\n"
     ]
    }
   ],
   "source": [
    "for k in np.arange(4):\n",
    "    print(f'iteration {k}: policy_evaluation')\n",
    "    policy_evaluation()\n",
    "    print('\\npolicy_update')\n",
    "    policy_update()\n",
    "\n",
    "print(policy)"
   ]
  },
  {
   "cell_type": "markdown",
   "metadata": {},
   "source": [
    "Plot results"
   ]
  },
  {
   "cell_type": "code",
   "execution_count": 56,
   "metadata": {},
   "outputs": [
    {
     "data": {
      "image/png": "[encoded data removed]",
      "text/plain": [
       "<Figure size 864x288 with 3 Axes>"
      ]
     },
     "metadata": {
      "needs_background": "light"
     },
     "output_type": "display_data"
    }
   ],
   "source": [
    "plt.rcParams[\"figure.figsize\"] = 12,4\n",
    "plt.subplot(121)\n",
    "\n",
    "cmap = plt.cm.get_cmap('magma') \n",
    "CS = plt.contour(policy, levels=range(-3, 5),cmap=cmap)\n",
    "plt.clabel(CS, fontsize=10)\n",
    "plt.xlim([0, 20])\n",
    "plt.ylim([0, 20])\n",
    "plt.axis('equal')\n",
    "plt.xticks(range(0,21,2))\n",
    "plt.yticks(range(21))\n",
    "plt.xlabel('cars at the second location')\n",
    "plt.ylabel('cars at the first location')\n",
    "plt.title('Optimal policy')\n",
    "plt.grid(True)\n",
    "\n",
    "plt.subplot(122)\n",
    "plt.pcolor(value,cmap=cmap)\n",
    "plt.colorbar()\n",
    "plt.axis('equal')\n",
    "plt.title('Value')\n",
    "plt.show()"
   ]
  },
  {
   "cell_type": "markdown",
   "metadata": {},
   "source": [
    "The optimal policy is not symmetric. If the first garage full and the second one is empty we should move 5 cars overnight while in inverse situation the optimal action is to move only 2 cars to the empty garage. The reason is that rental requests to the second garage are more frequent."
   ]
  }
 ],
 "metadata": {
  "kernelspec": {
   "display_name": "Python 3",
   "language": "python",
   "name": "python3"
  },
  "language_info": {
   "codemirror_mode": {
    "name": "ipython",
    "version": 3
   },
   "file_extension": ".py",
   "mimetype": "text/x-python",
   "name": "python",
   "nbconvert_exporter": "python",
   "pygments_lexer": "ipython3",
   "version": "3.7.2"
  }
 },
 "nbformat": 4,
 "nbformat_minor": 2
}
